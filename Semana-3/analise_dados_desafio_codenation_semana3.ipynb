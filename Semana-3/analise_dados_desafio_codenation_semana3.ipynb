{
  "nbformat": 4,
  "nbformat_minor": 0,
  "metadata": {
    "colab": {
      "name": "analise_dados_desafio_codenation_semana3.ipynb",
      "provenance": []
    },
    "kernelspec": {
      "display_name": "Python 3",
      "language": "python",
      "name": "python3"
    },
    "language_info": {
      "codemirror_mode": {
        "name": "ipython",
        "version": 3
      },
      "file_extension": ".py",
      "mimetype": "text/x-python",
      "name": "python",
      "nbconvert_exporter": "python",
      "pygments_lexer": "ipython3",
      "version": "3.7.6"
    }
  },
  "cells": [
    {
      "cell_type": "markdown",
      "metadata": {
        "colab_type": "text",
        "id": "4gb0kE45qb5y"
      },
      "source": [
        "# **Conhecendo a nossa base de consumidores**\n",
        "\n",
        "Esse conteúdo faz parte da aceleração de Data Science da [Codenation](https://https://www.codenation.dev/).\n",
        "\n",
        "**Objetivo**\n",
        "\n",
        "Queremos conhecer melhor nossos clientes por estado. Para isso, iniciamos uma análise na pontuação de crédito. Para realizar a verificação inicial, precisamos de alguns valores. Os valores são a média, a mediana, a moda e o desvio padrão da pontuação de crédito."
      ]
    },
    {
      "cell_type": "code",
      "metadata": {
        "id": "60ZZpUL76HJk",
        "colab_type": "code",
        "colab": {
          "base_uri": "https://localhost:8080/",
          "height": 272
        },
        "outputId": "8b8ec98b-e53b-42b9-e0b7-18c548ccd7bb"
      },
      "source": [
        "# importando bibliotecas\n",
        "!pip install missingno\n",
        "\n",
        "%matplotlib inline\n",
        "import pandas as pd\n",
        "import numpy as np\n",
        "import matplotlib.pyplot as plt \n",
        "import seaborn as sns\n",
        "import missingno as msno \n",
        "\n",
        "# configurando gráficos\n",
        "sns.set_style('darkgrid')\n",
        "sns.set_palette('Accent')"
      ],
      "execution_count": 1,
      "outputs": [
        {
          "output_type": "stream",
          "text": [
            "Requirement already satisfied: missingno in /usr/local/lib/python3.6/dist-packages (0.4.2)\n",
            "Requirement already satisfied: seaborn in /usr/local/lib/python3.6/dist-packages (from missingno) (0.10.1)\n",
            "Requirement already satisfied: scipy in /usr/local/lib/python3.6/dist-packages (from missingno) (1.4.1)\n",
            "Requirement already satisfied: matplotlib in /usr/local/lib/python3.6/dist-packages (from missingno) (3.2.2)\n",
            "Requirement already satisfied: numpy in /usr/local/lib/python3.6/dist-packages (from missingno) (1.18.5)\n",
            "Requirement already satisfied: pandas>=0.22.0 in /usr/local/lib/python3.6/dist-packages (from seaborn->missingno) (1.0.5)\n",
            "Requirement already satisfied: cycler>=0.10 in /usr/local/lib/python3.6/dist-packages (from matplotlib->missingno) (0.10.0)\n",
            "Requirement already satisfied: kiwisolver>=1.0.1 in /usr/local/lib/python3.6/dist-packages (from matplotlib->missingno) (1.2.0)\n",
            "Requirement already satisfied: python-dateutil>=2.1 in /usr/local/lib/python3.6/dist-packages (from matplotlib->missingno) (2.8.1)\n",
            "Requirement already satisfied: pyparsing!=2.0.4,!=2.1.2,!=2.1.6,>=2.0.1 in /usr/local/lib/python3.6/dist-packages (from matplotlib->missingno) (2.4.7)\n",
            "Requirement already satisfied: pytz>=2017.2 in /usr/local/lib/python3.6/dist-packages (from pandas>=0.22.0->seaborn->missingno) (2018.9)\n",
            "Requirement already satisfied: six in /usr/local/lib/python3.6/dist-packages (from cycler>=0.10->matplotlib->missingno) (1.12.0)\n"
          ],
          "name": "stdout"
        },
        {
          "output_type": "stream",
          "text": [
            "/usr/local/lib/python3.6/dist-packages/statsmodels/tools/_testing.py:19: FutureWarning: pandas.util.testing is deprecated. Use the functions in the public API at pandas.testing instead.\n",
            "  import pandas.util.testing as tm\n"
          ],
          "name": "stderr"
        }
      ]
    },
    {
      "cell_type": "markdown",
      "metadata": {
        "id": "OBJEOC_383H_",
        "colab_type": "text"
      },
      "source": [
        "# Analisando os Dados do dataset"
      ]
    },
    {
      "cell_type": "code",
      "metadata": {
        "colab_type": "code",
        "id": "kmX9262tqb55",
        "colab": {
          "base_uri": "https://localhost:8080/",
          "height": 215
        },
        "outputId": "b3da1d66-9ec8-418f-b3ad-2f9b556c1165"
      },
      "source": [
        "# carregando o dataset e visualizando as 5 primeiras entradas\n",
        "df = pd.read_csv('desafio1.csv')\n",
        "df.head()"
      ],
      "execution_count": 2,
      "outputs": [
        {
          "output_type": "execute_result",
          "data": {
            "text/html": [
              "<div>\n",
              "<style scoped>\n",
              "    .dataframe tbody tr th:only-of-type {\n",
              "        vertical-align: middle;\n",
              "    }\n",
              "\n",
              "    .dataframe tbody tr th {\n",
              "        vertical-align: top;\n",
              "    }\n",
              "\n",
              "    .dataframe thead th {\n",
              "        text-align: right;\n",
              "    }\n",
              "</style>\n",
              "<table border=\"1\" class=\"dataframe\">\n",
              "  <thead>\n",
              "    <tr style=\"text-align: right;\">\n",
              "      <th></th>\n",
              "      <th>RowNumber</th>\n",
              "      <th>id</th>\n",
              "      <th>sobrenome</th>\n",
              "      <th>pontuacao_credito</th>\n",
              "      <th>estado_residencia</th>\n",
              "      <th>genero</th>\n",
              "      <th>idade</th>\n",
              "      <th>nivel_estabilidade</th>\n",
              "      <th>saldo_conta</th>\n",
              "      <th>numero_produtos</th>\n",
              "      <th>possui_cartao_de_credito</th>\n",
              "      <th>membro_ativo</th>\n",
              "    </tr>\n",
              "  </thead>\n",
              "  <tbody>\n",
              "    <tr>\n",
              "      <th>0</th>\n",
              "      <td>1</td>\n",
              "      <td>e7f44fcbd380d4cef7e6c232cc7e37895c3fd197</td>\n",
              "      <td>6d6e0aa1b9b413e442e2fb68df14b4fc3f91de50</td>\n",
              "      <td>619</td>\n",
              "      <td>SC</td>\n",
              "      <td>F</td>\n",
              "      <td>42</td>\n",
              "      <td>2</td>\n",
              "      <td>0.00</td>\n",
              "      <td>1</td>\n",
              "      <td>1</td>\n",
              "      <td>1</td>\n",
              "    </tr>\n",
              "    <tr>\n",
              "      <th>1</th>\n",
              "      <td>2</td>\n",
              "      <td>28dcb083ad90512da16b9430085c2cddb8ca5e12</td>\n",
              "      <td>48e1ad846796fa314f1b4a6702b83343eb5482c5</td>\n",
              "      <td>608</td>\n",
              "      <td>RS</td>\n",
              "      <td>F</td>\n",
              "      <td>41</td>\n",
              "      <td>1</td>\n",
              "      <td>83807.86</td>\n",
              "      <td>1</td>\n",
              "      <td>0</td>\n",
              "      <td>1</td>\n",
              "    </tr>\n",
              "    <tr>\n",
              "      <th>2</th>\n",
              "      <td>3</td>\n",
              "      <td>774bc378f787438c9c7594e536787d07a097a54b</td>\n",
              "      <td>f2b29d5d934de615812b697132e767dea0f1e9e2</td>\n",
              "      <td>502</td>\n",
              "      <td>SC</td>\n",
              "      <td>F</td>\n",
              "      <td>42</td>\n",
              "      <td>8</td>\n",
              "      <td>159660.80</td>\n",
              "      <td>3</td>\n",
              "      <td>1</td>\n",
              "      <td>0</td>\n",
              "    </tr>\n",
              "    <tr>\n",
              "      <th>3</th>\n",
              "      <td>4</td>\n",
              "      <td>043a71326f7096de155e7f0c559dc62b5e4b7239</td>\n",
              "      <td>85d5c9da7cddd8109ad32a6c348fe2bb10bf99f2</td>\n",
              "      <td>699</td>\n",
              "      <td>SC</td>\n",
              "      <td>F</td>\n",
              "      <td>39</td>\n",
              "      <td>1</td>\n",
              "      <td>0.00</td>\n",
              "      <td>2</td>\n",
              "      <td>0</td>\n",
              "      <td>0</td>\n",
              "    </tr>\n",
              "    <tr>\n",
              "      <th>4</th>\n",
              "      <td>5</td>\n",
              "      <td>37b3bb8ca243955fb3605ec7e1c2a4607cdb3b22</td>\n",
              "      <td>ddc89c837a6933639de75f28171057060bd322df</td>\n",
              "      <td>850</td>\n",
              "      <td>RS</td>\n",
              "      <td>F</td>\n",
              "      <td>43</td>\n",
              "      <td>2</td>\n",
              "      <td>125510.82</td>\n",
              "      <td>1</td>\n",
              "      <td>1</td>\n",
              "      <td>1</td>\n",
              "    </tr>\n",
              "  </tbody>\n",
              "</table>\n",
              "</div>"
            ],
            "text/plain": [
              "   RowNumber  ... membro_ativo\n",
              "0          1  ...            1\n",
              "1          2  ...            1\n",
              "2          3  ...            0\n",
              "3          4  ...            0\n",
              "4          5  ...            1\n",
              "\n",
              "[5 rows x 12 columns]"
            ]
          },
          "metadata": {
            "tags": []
          },
          "execution_count": 2
        }
      ]
    },
    {
      "cell_type": "code",
      "metadata": {
        "colab_type": "code",
        "id": "KjmgdEZuqb59",
        "colab": {}
      },
      "source": [
        "df.drop(['RowNumber'], axis=1, inplace=True)"
      ],
      "execution_count": 3,
      "outputs": []
    },
    {
      "cell_type": "code",
      "metadata": {
        "colab_type": "code",
        "id": "8dkdDGUOqb6B",
        "colab": {
          "base_uri": "https://localhost:8080/",
          "height": 215
        },
        "outputId": "0de8be63-53d2-4641-a42b-5ab16595fb03"
      },
      "source": [
        "df.head()"
      ],
      "execution_count": 4,
      "outputs": [
        {
          "output_type": "execute_result",
          "data": {
            "text/html": [
              "<div>\n",
              "<style scoped>\n",
              "    .dataframe tbody tr th:only-of-type {\n",
              "        vertical-align: middle;\n",
              "    }\n",
              "\n",
              "    .dataframe tbody tr th {\n",
              "        vertical-align: top;\n",
              "    }\n",
              "\n",
              "    .dataframe thead th {\n",
              "        text-align: right;\n",
              "    }\n",
              "</style>\n",
              "<table border=\"1\" class=\"dataframe\">\n",
              "  <thead>\n",
              "    <tr style=\"text-align: right;\">\n",
              "      <th></th>\n",
              "      <th>id</th>\n",
              "      <th>sobrenome</th>\n",
              "      <th>pontuacao_credito</th>\n",
              "      <th>estado_residencia</th>\n",
              "      <th>genero</th>\n",
              "      <th>idade</th>\n",
              "      <th>nivel_estabilidade</th>\n",
              "      <th>saldo_conta</th>\n",
              "      <th>numero_produtos</th>\n",
              "      <th>possui_cartao_de_credito</th>\n",
              "      <th>membro_ativo</th>\n",
              "    </tr>\n",
              "  </thead>\n",
              "  <tbody>\n",
              "    <tr>\n",
              "      <th>0</th>\n",
              "      <td>e7f44fcbd380d4cef7e6c232cc7e37895c3fd197</td>\n",
              "      <td>6d6e0aa1b9b413e442e2fb68df14b4fc3f91de50</td>\n",
              "      <td>619</td>\n",
              "      <td>SC</td>\n",
              "      <td>F</td>\n",
              "      <td>42</td>\n",
              "      <td>2</td>\n",
              "      <td>0.00</td>\n",
              "      <td>1</td>\n",
              "      <td>1</td>\n",
              "      <td>1</td>\n",
              "    </tr>\n",
              "    <tr>\n",
              "      <th>1</th>\n",
              "      <td>28dcb083ad90512da16b9430085c2cddb8ca5e12</td>\n",
              "      <td>48e1ad846796fa314f1b4a6702b83343eb5482c5</td>\n",
              "      <td>608</td>\n",
              "      <td>RS</td>\n",
              "      <td>F</td>\n",
              "      <td>41</td>\n",
              "      <td>1</td>\n",
              "      <td>83807.86</td>\n",
              "      <td>1</td>\n",
              "      <td>0</td>\n",
              "      <td>1</td>\n",
              "    </tr>\n",
              "    <tr>\n",
              "      <th>2</th>\n",
              "      <td>774bc378f787438c9c7594e536787d07a097a54b</td>\n",
              "      <td>f2b29d5d934de615812b697132e767dea0f1e9e2</td>\n",
              "      <td>502</td>\n",
              "      <td>SC</td>\n",
              "      <td>F</td>\n",
              "      <td>42</td>\n",
              "      <td>8</td>\n",
              "      <td>159660.80</td>\n",
              "      <td>3</td>\n",
              "      <td>1</td>\n",
              "      <td>0</td>\n",
              "    </tr>\n",
              "    <tr>\n",
              "      <th>3</th>\n",
              "      <td>043a71326f7096de155e7f0c559dc62b5e4b7239</td>\n",
              "      <td>85d5c9da7cddd8109ad32a6c348fe2bb10bf99f2</td>\n",
              "      <td>699</td>\n",
              "      <td>SC</td>\n",
              "      <td>F</td>\n",
              "      <td>39</td>\n",
              "      <td>1</td>\n",
              "      <td>0.00</td>\n",
              "      <td>2</td>\n",
              "      <td>0</td>\n",
              "      <td>0</td>\n",
              "    </tr>\n",
              "    <tr>\n",
              "      <th>4</th>\n",
              "      <td>37b3bb8ca243955fb3605ec7e1c2a4607cdb3b22</td>\n",
              "      <td>ddc89c837a6933639de75f28171057060bd322df</td>\n",
              "      <td>850</td>\n",
              "      <td>RS</td>\n",
              "      <td>F</td>\n",
              "      <td>43</td>\n",
              "      <td>2</td>\n",
              "      <td>125510.82</td>\n",
              "      <td>1</td>\n",
              "      <td>1</td>\n",
              "      <td>1</td>\n",
              "    </tr>\n",
              "  </tbody>\n",
              "</table>\n",
              "</div>"
            ],
            "text/plain": [
              "                                         id  ... membro_ativo\n",
              "0  e7f44fcbd380d4cef7e6c232cc7e37895c3fd197  ...            1\n",
              "1  28dcb083ad90512da16b9430085c2cddb8ca5e12  ...            1\n",
              "2  774bc378f787438c9c7594e536787d07a097a54b  ...            0\n",
              "3  043a71326f7096de155e7f0c559dc62b5e4b7239  ...            0\n",
              "4  37b3bb8ca243955fb3605ec7e1c2a4607cdb3b22  ...            1\n",
              "\n",
              "[5 rows x 11 columns]"
            ]
          },
          "metadata": {
            "tags": []
          },
          "execution_count": 4
        }
      ]
    },
    {
      "cell_type": "markdown",
      "metadata": {
        "colab_type": "text",
        "id": "LWZQYN13qb6E"
      },
      "source": [
        "## Dicionário de variáveis\n",
        "\n",
        "<ul>\n",
        "<li><b>id</b>: Identificador do cliente</li>\n",
        "    \n",
        "<li><b>sobrenome</b>: Sobrenome do cliente</li>\n",
        "\n",
        "<li><b>pontuacao_credito</b>: Pontuação de crédito do cliente (quanto maior, melhor o cliente geralmente)</li>\n",
        "\n",
        "<li><b>estado_residencia</b>: Estado de residência do cliente</li>\n",
        "\n",
        "<li><b>genero</b>: Gênero do cliente</li>\n",
        "\n",
        "<li><b>nivel_estabilidade</b>: Nível de estabilidade do cliente</li>\n",
        "\n",
        "<li><b>saldo_conta</b>: Saldo disponível na conta do cliente</li>\n",
        "\n",
        "<li><b>numero_produtos</b>: Número de produtos que o cliente consome</li>\n",
        "\n",
        "<li><b>possui_cartao_de_credito</b>: Possui um cartão de crédito cadastrado</li>\n",
        "\n",
        "<li><b>membro_ativo</b>: Membro acessa e consome frequentemente </li>\n",
        "</ul>"
      ]
    },
    {
      "cell_type": "code",
      "metadata": {
        "colab_type": "code",
        "id": "KOJ5nc94qb6F",
        "colab": {
          "base_uri": "https://localhost:8080/",
          "height": 50
        },
        "outputId": "9f7dc92d-06d8-4e36-f5c2-0f5d416529fd"
      },
      "source": [
        "# dimensões do DataFrame\n",
        "print(f'Linhas: {df.shape[0]}')\n",
        "print(f'Colunas: {df.shape[1]}')"
      ],
      "execution_count": 5,
      "outputs": [
        {
          "output_type": "stream",
          "text": [
            "Linhas: 7000\n",
            "Colunas: 11\n"
          ],
          "name": "stdout"
        }
      ]
    },
    {
      "cell_type": "code",
      "metadata": {
        "colab_type": "code",
        "id": "P_aR9F8Dqb6I",
        "colab": {
          "base_uri": "https://localhost:8080/",
          "height": 319
        },
        "outputId": "97ef8120-afbb-49b6-f5cd-bd17e0ca4aea"
      },
      "source": [
        "df.info()"
      ],
      "execution_count": 6,
      "outputs": [
        {
          "output_type": "stream",
          "text": [
            "<class 'pandas.core.frame.DataFrame'>\n",
            "RangeIndex: 7000 entries, 0 to 6999\n",
            "Data columns (total 11 columns):\n",
            " #   Column                    Non-Null Count  Dtype  \n",
            "---  ------                    --------------  -----  \n",
            " 0   id                        7000 non-null   object \n",
            " 1   sobrenome                 7000 non-null   object \n",
            " 2   pontuacao_credito         7000 non-null   int64  \n",
            " 3   estado_residencia         7000 non-null   object \n",
            " 4   genero                    7000 non-null   object \n",
            " 5   idade                     7000 non-null   int64  \n",
            " 6   nivel_estabilidade        7000 non-null   int64  \n",
            " 7   saldo_conta               7000 non-null   float64\n",
            " 8   numero_produtos           7000 non-null   int64  \n",
            " 9   possui_cartao_de_credito  7000 non-null   int64  \n",
            " 10  membro_ativo              7000 non-null   int64  \n",
            "dtypes: float64(1), int64(6), object(4)\n",
            "memory usage: 601.7+ KB\n"
          ],
          "name": "stdout"
        }
      ]
    },
    {
      "cell_type": "code",
      "metadata": {
        "colab_type": "code",
        "id": "oCmLYnUWqb6P",
        "colab": {
          "base_uri": "https://localhost:8080/",
          "height": 218
        },
        "outputId": "a0ef62be-3d11-499d-b3ca-40869c56f856"
      },
      "source": [
        "# verificando a existência de valores NaN\n",
        "df.isna().any()"
      ],
      "execution_count": 7,
      "outputs": [
        {
          "output_type": "execute_result",
          "data": {
            "text/plain": [
              "id                          False\n",
              "sobrenome                   False\n",
              "pontuacao_credito           False\n",
              "estado_residencia           False\n",
              "genero                      False\n",
              "idade                       False\n",
              "nivel_estabilidade          False\n",
              "saldo_conta                 False\n",
              "numero_produtos             False\n",
              "possui_cartao_de_credito    False\n",
              "membro_ativo                False\n",
              "dtype: bool"
            ]
          },
          "metadata": {
            "tags": []
          },
          "execution_count": 7
        }
      ]
    },
    {
      "cell_type": "code",
      "metadata": {
        "colab_type": "code",
        "id": "nxoZskQZrmzD",
        "colab": {
          "base_uri": "https://localhost:8080/",
          "height": 528
        },
        "outputId": "d98dc516-af96-4719-c98a-82e5242dc8da"
      },
      "source": [
        "# visualização que confirma que não temos linhas com missiging values (NaN)\n",
        "msno.bar (df, figsize = (10,5))"
      ],
      "execution_count": 8,
      "outputs": [
        {
          "output_type": "execute_result",
          "data": {
            "text/plain": [
              "<matplotlib.axes._subplots.AxesSubplot at 0x7f0e51e32e48>"
            ]
          },
          "metadata": {
            "tags": []
          },
          "execution_count": 8
        },
        {
          "output_type": "display_data",
          "data": {
            "image/png": "[encoded data removed]",
            "text/plain": [
              "<Figure size 720x360 with 3 Axes>"
            ]
          },
          "metadata": {
            "tags": [],
            "needs_background": "light"
          }
        }
      ]
    },
    {
      "cell_type": "code",
      "metadata": {
        "colab_type": "code",
        "id": "GQWIc7v5qb6S",
        "colab": {
          "base_uri": "https://localhost:8080/",
          "height": 284
        },
        "outputId": "62c382ea-ba60-446a-a202-c14143516e31"
      },
      "source": [
        "# resumo estatístico\n",
        "df.describe()"
      ],
      "execution_count": 9,
      "outputs": [
        {
          "output_type": "execute_result",
          "data": {
            "text/html": [
              "<div>\n",
              "<style scoped>\n",
              "    .dataframe tbody tr th:only-of-type {\n",
              "        vertical-align: middle;\n",
              "    }\n",
              "\n",
              "    .dataframe tbody tr th {\n",
              "        vertical-align: top;\n",
              "    }\n",
              "\n",
              "    .dataframe thead th {\n",
              "        text-align: right;\n",
              "    }\n",
              "</style>\n",
              "<table border=\"1\" class=\"dataframe\">\n",
              "  <thead>\n",
              "    <tr style=\"text-align: right;\">\n",
              "      <th></th>\n",
              "      <th>pontuacao_credito</th>\n",
              "      <th>idade</th>\n",
              "      <th>nivel_estabilidade</th>\n",
              "      <th>saldo_conta</th>\n",
              "      <th>numero_produtos</th>\n",
              "      <th>possui_cartao_de_credito</th>\n",
              "      <th>membro_ativo</th>\n",
              "    </tr>\n",
              "  </thead>\n",
              "  <tbody>\n",
              "    <tr>\n",
              "      <th>count</th>\n",
              "      <td>7000.000000</td>\n",
              "      <td>7000.000000</td>\n",
              "      <td>7000.000000</td>\n",
              "      <td>7000.000000</td>\n",
              "      <td>7000.000000</td>\n",
              "      <td>7000.000000</td>\n",
              "      <td>7000.000000</td>\n",
              "    </tr>\n",
              "    <tr>\n",
              "      <th>mean</th>\n",
              "      <td>649.787000</td>\n",
              "      <td>38.892714</td>\n",
              "      <td>5.010286</td>\n",
              "      <td>76471.883751</td>\n",
              "      <td>1.526000</td>\n",
              "      <td>0.703286</td>\n",
              "      <td>0.512143</td>\n",
              "    </tr>\n",
              "    <tr>\n",
              "      <th>std</th>\n",
              "      <td>97.046279</td>\n",
              "      <td>10.465562</td>\n",
              "      <td>2.887500</td>\n",
              "      <td>62403.383911</td>\n",
              "      <td>0.583047</td>\n",
              "      <td>0.456842</td>\n",
              "      <td>0.499888</td>\n",
              "    </tr>\n",
              "    <tr>\n",
              "      <th>min</th>\n",
              "      <td>350.000000</td>\n",
              "      <td>18.000000</td>\n",
              "      <td>0.000000</td>\n",
              "      <td>0.000000</td>\n",
              "      <td>1.000000</td>\n",
              "      <td>0.000000</td>\n",
              "      <td>0.000000</td>\n",
              "    </tr>\n",
              "    <tr>\n",
              "      <th>25%</th>\n",
              "      <td>582.000000</td>\n",
              "      <td>32.000000</td>\n",
              "      <td>3.000000</td>\n",
              "      <td>0.000000</td>\n",
              "      <td>1.000000</td>\n",
              "      <td>0.000000</td>\n",
              "      <td>0.000000</td>\n",
              "    </tr>\n",
              "    <tr>\n",
              "      <th>50%</th>\n",
              "      <td>651.000000</td>\n",
              "      <td>37.000000</td>\n",
              "      <td>5.000000</td>\n",
              "      <td>97277.130000</td>\n",
              "      <td>1.000000</td>\n",
              "      <td>1.000000</td>\n",
              "      <td>1.000000</td>\n",
              "    </tr>\n",
              "    <tr>\n",
              "      <th>75%</th>\n",
              "      <td>717.000000</td>\n",
              "      <td>44.000000</td>\n",
              "      <td>7.250000</td>\n",
              "      <td>127537.155000</td>\n",
              "      <td>2.000000</td>\n",
              "      <td>1.000000</td>\n",
              "      <td>1.000000</td>\n",
              "    </tr>\n",
              "    <tr>\n",
              "      <th>max</th>\n",
              "      <td>850.000000</td>\n",
              "      <td>92.000000</td>\n",
              "      <td>10.000000</td>\n",
              "      <td>250898.090000</td>\n",
              "      <td>4.000000</td>\n",
              "      <td>1.000000</td>\n",
              "      <td>1.000000</td>\n",
              "    </tr>\n",
              "  </tbody>\n",
              "</table>\n",
              "</div>"
            ],
            "text/plain": [
              "       pontuacao_credito        idade  ...  possui_cartao_de_credito  membro_ativo\n",
              "count        7000.000000  7000.000000  ...               7000.000000   7000.000000\n",
              "mean          649.787000    38.892714  ...                  0.703286      0.512143\n",
              "std            97.046279    10.465562  ...                  0.456842      0.499888\n",
              "min           350.000000    18.000000  ...                  0.000000      0.000000\n",
              "25%           582.000000    32.000000  ...                  0.000000      0.000000\n",
              "50%           651.000000    37.000000  ...                  1.000000      1.000000\n",
              "75%           717.000000    44.000000  ...                  1.000000      1.000000\n",
              "max           850.000000    92.000000  ...                  1.000000      1.000000\n",
              "\n",
              "[8 rows x 7 columns]"
            ]
          },
          "metadata": {
            "tags": []
          },
          "execution_count": 9
        }
      ]
    },
    {
      "cell_type": "code",
      "metadata": {
        "colab_type": "code",
        "id": "EKm0cvFntrGT",
        "colab": {
          "base_uri": "https://localhost:8080/",
          "height": 254
        },
        "outputId": "b98e70e4-f5a0-4ed9-ccc1-dbb62a2d49af"
      },
      "source": [
        "# analisando as relações entre as variáveis\n",
        "corr = df.corr()\n",
        "corr"
      ],
      "execution_count": 10,
      "outputs": [
        {
          "output_type": "execute_result",
          "data": {
            "text/html": [
              "<div>\n",
              "<style scoped>\n",
              "    .dataframe tbody tr th:only-of-type {\n",
              "        vertical-align: middle;\n",
              "    }\n",
              "\n",
              "    .dataframe tbody tr th {\n",
              "        vertical-align: top;\n",
              "    }\n",
              "\n",
              "    .dataframe thead th {\n",
              "        text-align: right;\n",
              "    }\n",
              "</style>\n",
              "<table border=\"1\" class=\"dataframe\">\n",
              "  <thead>\n",
              "    <tr style=\"text-align: right;\">\n",
              "      <th></th>\n",
              "      <th>pontuacao_credito</th>\n",
              "      <th>idade</th>\n",
              "      <th>nivel_estabilidade</th>\n",
              "      <th>saldo_conta</th>\n",
              "      <th>numero_produtos</th>\n",
              "      <th>possui_cartao_de_credito</th>\n",
              "      <th>membro_ativo</th>\n",
              "    </tr>\n",
              "  </thead>\n",
              "  <tbody>\n",
              "    <tr>\n",
              "      <th>pontuacao_credito</th>\n",
              "      <td>1.000000</td>\n",
              "      <td>-0.002839</td>\n",
              "      <td>0.007233</td>\n",
              "      <td>0.009761</td>\n",
              "      <td>0.000996</td>\n",
              "      <td>-0.007987</td>\n",
              "      <td>0.033992</td>\n",
              "    </tr>\n",
              "    <tr>\n",
              "      <th>idade</th>\n",
              "      <td>-0.002839</td>\n",
              "      <td>1.000000</td>\n",
              "      <td>-0.002389</td>\n",
              "      <td>0.027459</td>\n",
              "      <td>-0.040531</td>\n",
              "      <td>-0.010335</td>\n",
              "      <td>0.093664</td>\n",
              "    </tr>\n",
              "    <tr>\n",
              "      <th>nivel_estabilidade</th>\n",
              "      <td>0.007233</td>\n",
              "      <td>-0.002389</td>\n",
              "      <td>1.000000</td>\n",
              "      <td>-0.020527</td>\n",
              "      <td>0.018088</td>\n",
              "      <td>0.036107</td>\n",
              "      <td>-0.029980</td>\n",
              "    </tr>\n",
              "    <tr>\n",
              "      <th>saldo_conta</th>\n",
              "      <td>0.009761</td>\n",
              "      <td>0.027459</td>\n",
              "      <td>-0.020527</td>\n",
              "      <td>1.000000</td>\n",
              "      <td>-0.303407</td>\n",
              "      <td>-0.019398</td>\n",
              "      <td>-0.006482</td>\n",
              "    </tr>\n",
              "    <tr>\n",
              "      <th>numero_produtos</th>\n",
              "      <td>0.000996</td>\n",
              "      <td>-0.040531</td>\n",
              "      <td>0.018088</td>\n",
              "      <td>-0.303407</td>\n",
              "      <td>1.000000</td>\n",
              "      <td>-0.007240</td>\n",
              "      <td>0.007005</td>\n",
              "    </tr>\n",
              "    <tr>\n",
              "      <th>possui_cartao_de_credito</th>\n",
              "      <td>-0.007987</td>\n",
              "      <td>-0.010335</td>\n",
              "      <td>0.036107</td>\n",
              "      <td>-0.019398</td>\n",
              "      <td>-0.007240</td>\n",
              "      <td>1.000000</td>\n",
              "      <td>-0.014564</td>\n",
              "    </tr>\n",
              "    <tr>\n",
              "      <th>membro_ativo</th>\n",
              "      <td>0.033992</td>\n",
              "      <td>0.093664</td>\n",
              "      <td>-0.029980</td>\n",
              "      <td>-0.006482</td>\n",
              "      <td>0.007005</td>\n",
              "      <td>-0.014564</td>\n",
              "      <td>1.000000</td>\n",
              "    </tr>\n",
              "  </tbody>\n",
              "</table>\n",
              "</div>"
            ],
            "text/plain": [
              "                          pontuacao_credito  ...  membro_ativo\n",
              "pontuacao_credito                  1.000000  ...      0.033992\n",
              "idade                             -0.002839  ...      0.093664\n",
              "nivel_estabilidade                 0.007233  ...     -0.029980\n",
              "saldo_conta                        0.009761  ...     -0.006482\n",
              "numero_produtos                    0.000996  ...      0.007005\n",
              "possui_cartao_de_credito          -0.007987  ...     -0.014564\n",
              "membro_ativo                       0.033992  ...      1.000000\n",
              "\n",
              "[7 rows x 7 columns]"
            ]
          },
          "metadata": {
            "tags": []
          },
          "execution_count": 10
        }
      ]
    },
    {
      "cell_type": "markdown",
      "metadata": {
        "colab_type": "text",
        "id": "3z4g4gDDuEUy"
      },
      "source": [
        "![image.png](https://i0.wp.com/www.abgconsultoria.com.br/blog/wp-content/uploads/img2-2.png?w=1500)"
      ]
    },
    {
      "cell_type": "code",
      "metadata": {
        "colab_type": "code",
        "id": "IUyVjndYtz4B",
        "colab": {
          "base_uri": "https://localhost:8080/",
          "height": 565
        },
        "outputId": "a156cec0-46bd-493f-b08c-02131fcbb956"
      },
      "source": [
        "corr = df.corr()\n",
        "sns.set_context(\"notebook\", font_scale=1.0, rc={\"lines.linewidth\": 2.5})\n",
        "plt.figure(figsize=(13,7))\n",
        "\n",
        "mask = np.zeros_like(corr)\n",
        "mask[np.triu_indices_from(mask, 1)] = True\n",
        "a = sns.heatmap(corr,mask=mask, annot=True, fmt='.2f')\n",
        "rotx = a.set_xticklabels(a.get_xticklabels(), rotation=90)\n",
        "roty = a.set_yticklabels(a.get_yticklabels(), rotation=30)"
      ],
      "execution_count": 11,
      "outputs": [
        {
          "output_type": "display_data",
          "data": {
            "image/png": "[encoded data removed]",
            "text/plain": [
              "<Figure size 936x504 with 2 Axes>"
            ]
          },
          "metadata": {
            "tags": [],
            "needs_background": "light"
          }
        }
      ]
    },
    {
      "cell_type": "markdown",
      "metadata": {
        "colab_type": "text",
        "id": "aepq55g_ss_P"
      },
      "source": [
        "# **1. Analisando cada variável separadamente**"
      ]
    },
    {
      "cell_type": "code",
      "metadata": {
        "colab_type": "code",
        "id": "jYcUkvi6s6kh",
        "colab": {
          "base_uri": "https://localhost:8080/",
          "height": 363
        },
        "outputId": "b8f55d25-fe7c-441f-9c65-babe5a39e1a1"
      },
      "source": [
        "df.head(10)"
      ],
      "execution_count": 12,
      "outputs": [
        {
          "output_type": "execute_result",
          "data": {
            "text/html": [
              "<div>\n",
              "<style scoped>\n",
              "    .dataframe tbody tr th:only-of-type {\n",
              "        vertical-align: middle;\n",
              "    }\n",
              "\n",
              "    .dataframe tbody tr th {\n",
              "        vertical-align: top;\n",
              "    }\n",
              "\n",
              "    .dataframe thead th {\n",
              "        text-align: right;\n",
              "    }\n",
              "</style>\n",
              "<table border=\"1\" class=\"dataframe\">\n",
              "  <thead>\n",
              "    <tr style=\"text-align: right;\">\n",
              "      <th></th>\n",
              "      <th>id</th>\n",
              "      <th>sobrenome</th>\n",
              "      <th>pontuacao_credito</th>\n",
              "      <th>estado_residencia</th>\n",
              "      <th>genero</th>\n",
              "      <th>idade</th>\n",
              "      <th>nivel_estabilidade</th>\n",
              "      <th>saldo_conta</th>\n",
              "      <th>numero_produtos</th>\n",
              "      <th>possui_cartao_de_credito</th>\n",
              "      <th>membro_ativo</th>\n",
              "    </tr>\n",
              "  </thead>\n",
              "  <tbody>\n",
              "    <tr>\n",
              "      <th>0</th>\n",
              "      <td>e7f44fcbd380d4cef7e6c232cc7e37895c3fd197</td>\n",
              "      <td>6d6e0aa1b9b413e442e2fb68df14b4fc3f91de50</td>\n",
              "      <td>619</td>\n",
              "      <td>SC</td>\n",
              "      <td>F</td>\n",
              "      <td>42</td>\n",
              "      <td>2</td>\n",
              "      <td>0.00</td>\n",
              "      <td>1</td>\n",
              "      <td>1</td>\n",
              "      <td>1</td>\n",
              "    </tr>\n",
              "    <tr>\n",
              "      <th>1</th>\n",
              "      <td>28dcb083ad90512da16b9430085c2cddb8ca5e12</td>\n",
              "      <td>48e1ad846796fa314f1b4a6702b83343eb5482c5</td>\n",
              "      <td>608</td>\n",
              "      <td>RS</td>\n",
              "      <td>F</td>\n",
              "      <td>41</td>\n",
              "      <td>1</td>\n",
              "      <td>83807.86</td>\n",
              "      <td>1</td>\n",
              "      <td>0</td>\n",
              "      <td>1</td>\n",
              "    </tr>\n",
              "    <tr>\n",
              "      <th>2</th>\n",
              "      <td>774bc378f787438c9c7594e536787d07a097a54b</td>\n",
              "      <td>f2b29d5d934de615812b697132e767dea0f1e9e2</td>\n",
              "      <td>502</td>\n",
              "      <td>SC</td>\n",
              "      <td>F</td>\n",
              "      <td>42</td>\n",
              "      <td>8</td>\n",
              "      <td>159660.80</td>\n",
              "      <td>3</td>\n",
              "      <td>1</td>\n",
              "      <td>0</td>\n",
              "    </tr>\n",
              "    <tr>\n",
              "      <th>3</th>\n",
              "      <td>043a71326f7096de155e7f0c559dc62b5e4b7239</td>\n",
              "      <td>85d5c9da7cddd8109ad32a6c348fe2bb10bf99f2</td>\n",
              "      <td>699</td>\n",
              "      <td>SC</td>\n",
              "      <td>F</td>\n",
              "      <td>39</td>\n",
              "      <td>1</td>\n",
              "      <td>0.00</td>\n",
              "      <td>2</td>\n",
              "      <td>0</td>\n",
              "      <td>0</td>\n",
              "    </tr>\n",
              "    <tr>\n",
              "      <th>4</th>\n",
              "      <td>37b3bb8ca243955fb3605ec7e1c2a4607cdb3b22</td>\n",
              "      <td>ddc89c837a6933639de75f28171057060bd322df</td>\n",
              "      <td>850</td>\n",
              "      <td>RS</td>\n",
              "      <td>F</td>\n",
              "      <td>43</td>\n",
              "      <td>2</td>\n",
              "      <td>125510.82</td>\n",
              "      <td>1</td>\n",
              "      <td>1</td>\n",
              "      <td>1</td>\n",
              "    </tr>\n",
              "    <tr>\n",
              "      <th>5</th>\n",
              "      <td>db5cf32c3fbc7c5d8f8313afca1d099de6dc055f</td>\n",
              "      <td>a596384ca70664af4c5fac9f935cff186b8e8bc0</td>\n",
              "      <td>645</td>\n",
              "      <td>RS</td>\n",
              "      <td>M</td>\n",
              "      <td>44</td>\n",
              "      <td>8</td>\n",
              "      <td>113755.78</td>\n",
              "      <td>2</td>\n",
              "      <td>1</td>\n",
              "      <td>0</td>\n",
              "    </tr>\n",
              "    <tr>\n",
              "      <th>6</th>\n",
              "      <td>8f3cc64a0a84bab38fefb030f09757d0cbf03bb2</td>\n",
              "      <td>abec3e525ab40e45975c91d4fa2bc7b318d93de4</td>\n",
              "      <td>822</td>\n",
              "      <td>SC</td>\n",
              "      <td>M</td>\n",
              "      <td>50</td>\n",
              "      <td>7</td>\n",
              "      <td>0.00</td>\n",
              "      <td>2</td>\n",
              "      <td>1</td>\n",
              "      <td>1</td>\n",
              "    </tr>\n",
              "    <tr>\n",
              "      <th>7</th>\n",
              "      <td>6704b822c203e2dda9f225dfc4f1bed2ae9044e6</td>\n",
              "      <td>336b42483e6a17f48eb040a251b5d6e64d1351a9</td>\n",
              "      <td>376</td>\n",
              "      <td>PR</td>\n",
              "      <td>F</td>\n",
              "      <td>29</td>\n",
              "      <td>4</td>\n",
              "      <td>115046.74</td>\n",
              "      <td>4</td>\n",
              "      <td>1</td>\n",
              "      <td>0</td>\n",
              "    </tr>\n",
              "    <tr>\n",
              "      <th>8</th>\n",
              "      <td>35f41954a87f722a3960e5fa8ce898a09398a564</td>\n",
              "      <td>53a417796c777851003b3f2431e8eef5625ec15b</td>\n",
              "      <td>501</td>\n",
              "      <td>SC</td>\n",
              "      <td>M</td>\n",
              "      <td>44</td>\n",
              "      <td>4</td>\n",
              "      <td>142051.07</td>\n",
              "      <td>2</td>\n",
              "      <td>0</td>\n",
              "      <td>1</td>\n",
              "    </tr>\n",
              "    <tr>\n",
              "      <th>9</th>\n",
              "      <td>f110be36fc6171a7da472b9cbac8698df880aac6</td>\n",
              "      <td>b89d09fc7719cb3c4a87e4a61cb87b3465e9d8ff</td>\n",
              "      <td>684</td>\n",
              "      <td>SC</td>\n",
              "      <td>M</td>\n",
              "      <td>27</td>\n",
              "      <td>2</td>\n",
              "      <td>134603.88</td>\n",
              "      <td>1</td>\n",
              "      <td>1</td>\n",
              "      <td>1</td>\n",
              "    </tr>\n",
              "  </tbody>\n",
              "</table>\n",
              "</div>"
            ],
            "text/plain": [
              "                                         id  ... membro_ativo\n",
              "0  e7f44fcbd380d4cef7e6c232cc7e37895c3fd197  ...            1\n",
              "1  28dcb083ad90512da16b9430085c2cddb8ca5e12  ...            1\n",
              "2  774bc378f787438c9c7594e536787d07a097a54b  ...            0\n",
              "3  043a71326f7096de155e7f0c559dc62b5e4b7239  ...            0\n",
              "4  37b3bb8ca243955fb3605ec7e1c2a4607cdb3b22  ...            1\n",
              "5  db5cf32c3fbc7c5d8f8313afca1d099de6dc055f  ...            0\n",
              "6  8f3cc64a0a84bab38fefb030f09757d0cbf03bb2  ...            1\n",
              "7  6704b822c203e2dda9f225dfc4f1bed2ae9044e6  ...            0\n",
              "8  35f41954a87f722a3960e5fa8ce898a09398a564  ...            1\n",
              "9  f110be36fc6171a7da472b9cbac8698df880aac6  ...            1\n",
              "\n",
              "[10 rows x 11 columns]"
            ]
          },
          "metadata": {
            "tags": []
          },
          "execution_count": 12
        }
      ]
    },
    {
      "cell_type": "markdown",
      "metadata": {
        "colab_type": "text",
        "id": "YjWzyvIcs26z"
      },
      "source": [
        "## **1.01 - Pontuação Crédito**\n",
        "\n",
        "Pontuação de crédito do cliente."
      ]
    },
    {
      "cell_type": "code",
      "metadata": {
        "colab_type": "code",
        "id": "Y5w_Og7sqb6U",
        "colab": {
          "base_uri": "https://localhost:8080/",
          "height": 0
        },
        "outputId": "b20f8cf3-0ef5-47ec-92b5-d3de15bf9126"
      },
      "source": [
        "print('Valores únicos: {}'.format(df['pontuacao_credito'].nunique()))"
      ],
      "execution_count": 13,
      "outputs": [
        {
          "output_type": "stream",
          "text": [
            "Valores únicos: 451\n"
          ],
          "name": "stdout"
        }
      ]
    },
    {
      "cell_type": "code",
      "metadata": {
        "colab_type": "code",
        "id": "A2quQ7zE1WlU",
        "colab": {
          "base_uri": "https://localhost:8080/",
          "height": 0
        },
        "outputId": "ea0b6c62-2f2e-4fe5-cf9d-f717e0340f58"
      },
      "source": [
        "# resumo estatístico\n",
        "display(pd.DataFrame(df['pontuacao_credito'].describe()))\n",
        "\n",
        "ax = plt.subplots(figsize=(10,6))\n",
        "ax = sns.boxplot(df['pontuacao_credito'])\n",
        "ax.set_title('Boxplot Pontuação Crédito', fontsize=18);"
      ],
      "execution_count": 14,
      "outputs": [
        {
          "output_type": "display_data",
          "data": {
            "text/html": [
              "<div>\n",
              "<style scoped>\n",
              "    .dataframe tbody tr th:only-of-type {\n",
              "        vertical-align: middle;\n",
              "    }\n",
              "\n",
              "    .dataframe tbody tr th {\n",
              "        vertical-align: top;\n",
              "    }\n",
              "\n",
              "    .dataframe thead th {\n",
              "        text-align: right;\n",
              "    }\n",
              "</style>\n",
              "<table border=\"1\" class=\"dataframe\">\n",
              "  <thead>\n",
              "    <tr style=\"text-align: right;\">\n",
              "      <th></th>\n",
              "      <th>pontuacao_credito</th>\n",
              "    </tr>\n",
              "  </thead>\n",
              "  <tbody>\n",
              "    <tr>\n",
              "      <th>count</th>\n",
              "      <td>7000.000000</td>\n",
              "    </tr>\n",
              "    <tr>\n",
              "      <th>mean</th>\n",
              "      <td>649.787000</td>\n",
              "    </tr>\n",
              "    <tr>\n",
              "      <th>std</th>\n",
              "      <td>97.046279</td>\n",
              "    </tr>\n",
              "    <tr>\n",
              "      <th>min</th>\n",
              "      <td>350.000000</td>\n",
              "    </tr>\n",
              "    <tr>\n",
              "      <th>25%</th>\n",
              "      <td>582.000000</td>\n",
              "    </tr>\n",
              "    <tr>\n",
              "      <th>50%</th>\n",
              "      <td>651.000000</td>\n",
              "    </tr>\n",
              "    <tr>\n",
              "      <th>75%</th>\n",
              "      <td>717.000000</td>\n",
              "    </tr>\n",
              "    <tr>\n",
              "      <th>max</th>\n",
              "      <td>850.000000</td>\n",
              "    </tr>\n",
              "  </tbody>\n",
              "</table>\n",
              "</div>"
            ],
            "text/plain": [
              "       pontuacao_credito\n",
              "count        7000.000000\n",
              "mean          649.787000\n",
              "std            97.046279\n",
              "min           350.000000\n",
              "25%           582.000000\n",
              "50%           651.000000\n",
              "75%           717.000000\n",
              "max           850.000000"
            ]
          },
          "metadata": {
            "tags": []
          }
        },
        {
          "output_type": "display_data",
          "data": {
            "image/png": "[encoded data removed]",
            "text/plain": [
              "<Figure size 720x432 with 1 Axes>"
            ]
          },
          "metadata": {
            "tags": [],
            "needs_background": "light"
          }
        }
      ]
    },
    {
      "cell_type": "markdown",
      "metadata": {
        "id": "OZsMrQBgI4ki",
        "colab_type": "text"
      },
      "source": [
        "Média pontuação de crédito por estado:"
      ]
    },
    {
      "cell_type": "code",
      "metadata": {
        "colab_type": "code",
        "id": "mfcIjiPj9eOU",
        "colab": {
          "base_uri": "https://localhost:8080/",
          "height": 0
        },
        "outputId": "f4a6e0a8-e4cd-4caf-9ac6-e07d93c27441"
      },
      "source": [
        "df.groupby('estado_residencia').agg({'pontuacao_credito' : 'mean'})"
      ],
      "execution_count": 15,
      "outputs": [
        {
          "output_type": "execute_result",
          "data": {
            "text/html": [
              "<div>\n",
              "<style scoped>\n",
              "    .dataframe tbody tr th:only-of-type {\n",
              "        vertical-align: middle;\n",
              "    }\n",
              "\n",
              "    .dataframe tbody tr th {\n",
              "        vertical-align: top;\n",
              "    }\n",
              "\n",
              "    .dataframe thead th {\n",
              "        text-align: right;\n",
              "    }\n",
              "</style>\n",
              "<table border=\"1\" class=\"dataframe\">\n",
              "  <thead>\n",
              "    <tr style=\"text-align: right;\">\n",
              "      <th></th>\n",
              "      <th>pontuacao_credito</th>\n",
              "    </tr>\n",
              "    <tr>\n",
              "      <th>estado_residencia</th>\n",
              "      <th></th>\n",
              "    </tr>\n",
              "  </thead>\n",
              "  <tbody>\n",
              "    <tr>\n",
              "      <th>PR</th>\n",
              "      <td>648.961294</td>\n",
              "    </tr>\n",
              "    <tr>\n",
              "      <th>RS</th>\n",
              "      <td>651.105143</td>\n",
              "    </tr>\n",
              "    <tr>\n",
              "      <th>SC</th>\n",
              "      <td>649.537653</td>\n",
              "    </tr>\n",
              "  </tbody>\n",
              "</table>\n",
              "</div>"
            ],
            "text/plain": [
              "                   pontuacao_credito\n",
              "estado_residencia                   \n",
              "PR                        648.961294\n",
              "RS                        651.105143\n",
              "SC                        649.537653"
            ]
          },
          "metadata": {
            "tags": []
          },
          "execution_count": 15
        }
      ]
    },
    {
      "cell_type": "markdown",
      "metadata": {
        "id": "5F9M5BIXJCS7",
        "colab_type": "text"
      },
      "source": [
        "Média pontuação de crédito por gênero:"
      ]
    },
    {
      "cell_type": "code",
      "metadata": {
        "colab_type": "code",
        "id": "chC4bzFi922f",
        "colab": {
          "base_uri": "https://localhost:8080/",
          "height": 0
        },
        "outputId": "001f5953-c23b-4365-92f1-2f2f4c22fbcf"
      },
      "source": [
        "df.groupby('genero').agg({'pontuacao_credito' : 'mean'})"
      ],
      "execution_count": 16,
      "outputs": [
        {
          "output_type": "execute_result",
          "data": {
            "text/html": [
              "<div>\n",
              "<style scoped>\n",
              "    .dataframe tbody tr th:only-of-type {\n",
              "        vertical-align: middle;\n",
              "    }\n",
              "\n",
              "    .dataframe tbody tr th {\n",
              "        vertical-align: top;\n",
              "    }\n",
              "\n",
              "    .dataframe thead th {\n",
              "        text-align: right;\n",
              "    }\n",
              "</style>\n",
              "<table border=\"1\" class=\"dataframe\">\n",
              "  <thead>\n",
              "    <tr style=\"text-align: right;\">\n",
              "      <th></th>\n",
              "      <th>pontuacao_credito</th>\n",
              "    </tr>\n",
              "    <tr>\n",
              "      <th>genero</th>\n",
              "      <th></th>\n",
              "    </tr>\n",
              "  </thead>\n",
              "  <tbody>\n",
              "    <tr>\n",
              "      <th>F</th>\n",
              "      <td>648.607666</td>\n",
              "    </tr>\n",
              "    <tr>\n",
              "      <th>M</th>\n",
              "      <td>650.785281</td>\n",
              "    </tr>\n",
              "  </tbody>\n",
              "</table>\n",
              "</div>"
            ],
            "text/plain": [
              "        pontuacao_credito\n",
              "genero                   \n",
              "F              648.607666\n",
              "M              650.785281"
            ]
          },
          "metadata": {
            "tags": []
          },
          "execution_count": 16
        }
      ]
    },
    {
      "cell_type": "markdown",
      "metadata": {
        "colab_type": "text",
        "id": "A_wlslkL-vPn"
      },
      "source": [
        "## **1.02 - Estado Residência**\n",
        "\n",
        "Estado de residência do cliente"
      ]
    },
    {
      "cell_type": "code",
      "metadata": {
        "colab_type": "code",
        "id": "pEN-nykqB0aB",
        "colab": {
          "base_uri": "https://localhost:8080/",
          "height": 0
        },
        "outputId": "fc560871-4577-4ff2-e830-9981ee766988"
      },
      "source": [
        "# resumo estatístico\n",
        "pd.DataFrame(df['estado_residencia'].describe())"
      ],
      "execution_count": 17,
      "outputs": [
        {
          "output_type": "execute_result",
          "data": {
            "text/html": [
              "<div>\n",
              "<style scoped>\n",
              "    .dataframe tbody tr th:only-of-type {\n",
              "        vertical-align: middle;\n",
              "    }\n",
              "\n",
              "    .dataframe tbody tr th {\n",
              "        vertical-align: top;\n",
              "    }\n",
              "\n",
              "    .dataframe thead th {\n",
              "        text-align: right;\n",
              "    }\n",
              "</style>\n",
              "<table border=\"1\" class=\"dataframe\">\n",
              "  <thead>\n",
              "    <tr style=\"text-align: right;\">\n",
              "      <th></th>\n",
              "      <th>estado_residencia</th>\n",
              "    </tr>\n",
              "  </thead>\n",
              "  <tbody>\n",
              "    <tr>\n",
              "      <th>count</th>\n",
              "      <td>7000</td>\n",
              "    </tr>\n",
              "    <tr>\n",
              "      <th>unique</th>\n",
              "      <td>3</td>\n",
              "    </tr>\n",
              "    <tr>\n",
              "      <th>top</th>\n",
              "      <td>SC</td>\n",
              "    </tr>\n",
              "    <tr>\n",
              "      <th>freq</th>\n",
              "      <td>3519</td>\n",
              "    </tr>\n",
              "  </tbody>\n",
              "</table>\n",
              "</div>"
            ],
            "text/plain": [
              "       estado_residencia\n",
              "count               7000\n",
              "unique                 3\n",
              "top                   SC\n",
              "freq                3519"
            ]
          },
          "metadata": {
            "tags": []
          },
          "execution_count": 17
        }
      ]
    },
    {
      "cell_type": "code",
      "metadata": {
        "colab_type": "code",
        "id": "ZllJiLQV1m4I",
        "colab": {
          "base_uri": "https://localhost:8080/",
          "height": 0
        },
        "outputId": "4b4ee58b-e062-46b9-8628-253d6f2b88c8"
      },
      "source": [
        "display(df['estado_residencia'].value_counts())\n",
        "\n",
        "ax = plt.subplots(figsize=(8,6))\n",
        "ax = sns.countplot(x='estado_residencia', data=df)\n",
        "ax.set_title('Estados', fontsize=18);"
      ],
      "execution_count": 18,
      "outputs": [
        {
          "output_type": "display_data",
          "data": {
            "text/plain": [
              "SC    3519\n",
              "RS    1750\n",
              "PR    1731\n",
              "Name: estado_residencia, dtype: int64"
            ]
          },
          "metadata": {
            "tags": []
          }
        },
        {
          "output_type": "display_data",
          "data": {
            "image/png": "[encoded data removed]",
            "text/plain": [
              "<Figure size 576x432 with 1 Axes>"
            ]
          },
          "metadata": {
            "tags": [],
            "needs_background": "light"
          }
        }
      ]
    },
    {
      "cell_type": "markdown",
      "metadata": {
        "id": "usDwrbfvJjGj",
        "colab_type": "text"
      },
      "source": [
        "Gêneros por estado:"
      ]
    },
    {
      "cell_type": "code",
      "metadata": {
        "colab_type": "code",
        "id": "cIDrDNhD_XEt",
        "colab": {
          "base_uri": "https://localhost:8080/",
          "height": 0
        },
        "outputId": "b7139f72-d97c-4b5f-9a35-672a70275683"
      },
      "source": [
        "display(df.groupby(['estado_residencia', 'genero']).agg({'genero' : 'count'}))\n",
        "\n",
        "ax = plt.subplots(figsize=(8,6))\n",
        "ax = sns.countplot(x='estado_residencia', data=df, hue='genero')\n",
        "ax.set_title('Gêneros por Estado', fontsize=18);"
      ],
      "execution_count": 19,
      "outputs": [
        {
          "output_type": "display_data",
          "data": {
            "text/html": [
              "<div>\n",
              "<style scoped>\n",
              "    .dataframe tbody tr th:only-of-type {\n",
              "        vertical-align: middle;\n",
              "    }\n",
              "\n",
              "    .dataframe tbody tr th {\n",
              "        vertical-align: top;\n",
              "    }\n",
              "\n",
              "    .dataframe thead th {\n",
              "        text-align: right;\n",
              "    }\n",
              "</style>\n",
              "<table border=\"1\" class=\"dataframe\">\n",
              "  <thead>\n",
              "    <tr style=\"text-align: right;\">\n",
              "      <th></th>\n",
              "      <th></th>\n",
              "      <th>genero</th>\n",
              "    </tr>\n",
              "    <tr>\n",
              "      <th>estado_residencia</th>\n",
              "      <th>genero</th>\n",
              "      <th></th>\n",
              "    </tr>\n",
              "  </thead>\n",
              "  <tbody>\n",
              "    <tr>\n",
              "      <th rowspan=\"2\" valign=\"top\">PR</th>\n",
              "      <th>F</th>\n",
              "      <td>819</td>\n",
              "    </tr>\n",
              "    <tr>\n",
              "      <th>M</th>\n",
              "      <td>912</td>\n",
              "    </tr>\n",
              "    <tr>\n",
              "      <th rowspan=\"2\" valign=\"top\">RS</th>\n",
              "      <th>F</th>\n",
              "      <td>791</td>\n",
              "    </tr>\n",
              "    <tr>\n",
              "      <th>M</th>\n",
              "      <td>959</td>\n",
              "    </tr>\n",
              "    <tr>\n",
              "      <th rowspan=\"2\" valign=\"top\">SC</th>\n",
              "      <th>F</th>\n",
              "      <td>1599</td>\n",
              "    </tr>\n",
              "    <tr>\n",
              "      <th>M</th>\n",
              "      <td>1920</td>\n",
              "    </tr>\n",
              "  </tbody>\n",
              "</table>\n",
              "</div>"
            ],
            "text/plain": [
              "                          genero\n",
              "estado_residencia genero        \n",
              "PR                F          819\n",
              "                  M          912\n",
              "RS                F          791\n",
              "                  M          959\n",
              "SC                F         1599\n",
              "                  M         1920"
            ]
          },
          "metadata": {
            "tags": []
          }
        },
        {
          "output_type": "display_data",
          "data": {
            "image/png": "[encoded data removed]",
            "text/plain": [
              "<Figure size 576x432 with 1 Axes>"
            ]
          },
          "metadata": {
            "tags": [],
            "needs_background": "light"
          }
        }
      ]
    },
    {
      "cell_type": "markdown",
      "metadata": {
        "id": "dbLQ2kiCJnh_",
        "colab_type": "text"
      },
      "source": [
        "Média de idade por estado:"
      ]
    },
    {
      "cell_type": "code",
      "metadata": {
        "colab_type": "code",
        "id": "aVc8dbBbA3e3",
        "colab": {
          "base_uri": "https://localhost:8080/",
          "height": 0
        },
        "outputId": "dc67c8d9-7131-4a49-aa4b-fa4b1e602cbb"
      },
      "source": [
        "df.groupby(['estado_residencia']).agg({'idade' : 'mean'})"
      ],
      "execution_count": 20,
      "outputs": [
        {
          "output_type": "execute_result",
          "data": {
            "text/html": [
              "<div>\n",
              "<style scoped>\n",
              "    .dataframe tbody tr th:only-of-type {\n",
              "        vertical-align: middle;\n",
              "    }\n",
              "\n",
              "    .dataframe tbody tr th {\n",
              "        vertical-align: top;\n",
              "    }\n",
              "\n",
              "    .dataframe thead th {\n",
              "        text-align: right;\n",
              "    }\n",
              "</style>\n",
              "<table border=\"1\" class=\"dataframe\">\n",
              "  <thead>\n",
              "    <tr style=\"text-align: right;\">\n",
              "      <th></th>\n",
              "      <th>idade</th>\n",
              "    </tr>\n",
              "    <tr>\n",
              "      <th>estado_residencia</th>\n",
              "      <th></th>\n",
              "    </tr>\n",
              "  </thead>\n",
              "  <tbody>\n",
              "    <tr>\n",
              "      <th>PR</th>\n",
              "      <td>39.492779</td>\n",
              "    </tr>\n",
              "    <tr>\n",
              "      <th>RS</th>\n",
              "      <td>39.124000</td>\n",
              "    </tr>\n",
              "    <tr>\n",
              "      <th>SC</th>\n",
              "      <td>38.482523</td>\n",
              "    </tr>\n",
              "  </tbody>\n",
              "</table>\n",
              "</div>"
            ],
            "text/plain": [
              "                       idade\n",
              "estado_residencia           \n",
              "PR                 39.492779\n",
              "RS                 39.124000\n",
              "SC                 38.482523"
            ]
          },
          "metadata": {
            "tags": []
          },
          "execution_count": 20
        }
      ]
    },
    {
      "cell_type": "markdown",
      "metadata": {
        "colab_type": "text",
        "id": "sQiHw7ETDV-V"
      },
      "source": [
        "## **1.03 - Gênero**\n",
        "\n",
        "Gênero do cliente."
      ]
    },
    {
      "cell_type": "code",
      "metadata": {
        "colab_type": "code",
        "id": "DGYR1reqIz3b",
        "colab": {
          "base_uri": "https://localhost:8080/",
          "height": 0
        },
        "outputId": "c21fafb7-4dae-48fe-d41d-52de044906ef"
      },
      "source": [
        "# resumo estatístico\n",
        "pd.DataFrame(df['genero'].describe())"
      ],
      "execution_count": 21,
      "outputs": [
        {
          "output_type": "execute_result",
          "data": {
            "text/html": [
              "<div>\n",
              "<style scoped>\n",
              "    .dataframe tbody tr th:only-of-type {\n",
              "        vertical-align: middle;\n",
              "    }\n",
              "\n",
              "    .dataframe tbody tr th {\n",
              "        vertical-align: top;\n",
              "    }\n",
              "\n",
              "    .dataframe thead th {\n",
              "        text-align: right;\n",
              "    }\n",
              "</style>\n",
              "<table border=\"1\" class=\"dataframe\">\n",
              "  <thead>\n",
              "    <tr style=\"text-align: right;\">\n",
              "      <th></th>\n",
              "      <th>genero</th>\n",
              "    </tr>\n",
              "  </thead>\n",
              "  <tbody>\n",
              "    <tr>\n",
              "      <th>count</th>\n",
              "      <td>7000</td>\n",
              "    </tr>\n",
              "    <tr>\n",
              "      <th>unique</th>\n",
              "      <td>2</td>\n",
              "    </tr>\n",
              "    <tr>\n",
              "      <th>top</th>\n",
              "      <td>M</td>\n",
              "    </tr>\n",
              "    <tr>\n",
              "      <th>freq</th>\n",
              "      <td>3791</td>\n",
              "    </tr>\n",
              "  </tbody>\n",
              "</table>\n",
              "</div>"
            ],
            "text/plain": [
              "       genero\n",
              "count    7000\n",
              "unique      2\n",
              "top         M\n",
              "freq     3791"
            ]
          },
          "metadata": {
            "tags": []
          },
          "execution_count": 21
        }
      ]
    },
    {
      "cell_type": "code",
      "metadata": {
        "colab_type": "code",
        "id": "Lc68awmFDRNe",
        "colab": {
          "base_uri": "https://localhost:8080/",
          "height": 0
        },
        "outputId": "42bf7324-9803-490e-83a7-a5d274ab5417"
      },
      "source": [
        "display(df['genero'].value_counts())\n",
        "\n",
        "ax = plt.subplots(figsize=(8,6))\n",
        "ax = sns.countplot(x='genero', data=df)\n",
        "ax.set_title('Gêneros', fontsize=18);"
      ],
      "execution_count": 22,
      "outputs": [
        {
          "output_type": "display_data",
          "data": {
            "text/plain": [
              "M    3791\n",
              "F    3209\n",
              "Name: genero, dtype: int64"
            ]
          },
          "metadata": {
            "tags": []
          }
        },
        {
          "output_type": "display_data",
          "data": {
            "image/png": "[encoded data removed]",
            "text/plain": [
              "<Figure size 576x432 with 1 Axes>"
            ]
          },
          "metadata": {
            "tags": [],
            "needs_background": "light"
          }
        }
      ]
    },
    {
      "cell_type": "markdown",
      "metadata": {
        "id": "_2N0qWCjKbHI",
        "colab_type": "text"
      },
      "source": [
        "Média idade por gênero:"
      ]
    },
    {
      "cell_type": "code",
      "metadata": {
        "colab_type": "code",
        "id": "zorEMIbhESBF",
        "colab": {
          "base_uri": "https://localhost:8080/",
          "height": 0
        },
        "outputId": "03e23bd2-dc9c-45df-a36e-f3ba3ffe502e"
      },
      "source": [
        "df.groupby('genero').agg({'idade' : 'mean'})"
      ],
      "execution_count": 23,
      "outputs": [
        {
          "output_type": "execute_result",
          "data": {
            "text/html": [
              "<div>\n",
              "<style scoped>\n",
              "    .dataframe tbody tr th:only-of-type {\n",
              "        vertical-align: middle;\n",
              "    }\n",
              "\n",
              "    .dataframe tbody tr th {\n",
              "        vertical-align: top;\n",
              "    }\n",
              "\n",
              "    .dataframe thead th {\n",
              "        text-align: right;\n",
              "    }\n",
              "</style>\n",
              "<table border=\"1\" class=\"dataframe\">\n",
              "  <thead>\n",
              "    <tr style=\"text-align: right;\">\n",
              "      <th></th>\n",
              "      <th>idade</th>\n",
              "    </tr>\n",
              "    <tr>\n",
              "      <th>genero</th>\n",
              "      <th></th>\n",
              "    </tr>\n",
              "  </thead>\n",
              "  <tbody>\n",
              "    <tr>\n",
              "      <th>F</th>\n",
              "      <td>39.249922</td>\n",
              "    </tr>\n",
              "    <tr>\n",
              "      <th>M</th>\n",
              "      <td>38.590346</td>\n",
              "    </tr>\n",
              "  </tbody>\n",
              "</table>\n",
              "</div>"
            ],
            "text/plain": [
              "            idade\n",
              "genero           \n",
              "F       39.249922\n",
              "M       38.590346"
            ]
          },
          "metadata": {
            "tags": []
          },
          "execution_count": 23
        }
      ]
    },
    {
      "cell_type": "markdown",
      "metadata": {
        "id": "kgKIjXKqKfaE",
        "colab_type": "text"
      },
      "source": [
        "Membros ativos por gênero:"
      ]
    },
    {
      "cell_type": "code",
      "metadata": {
        "colab_type": "code",
        "id": "bftFY6uuHfkd",
        "colab": {
          "base_uri": "https://localhost:8080/",
          "height": 0
        },
        "outputId": "55200e4d-886b-438f-b8d0-ec0e004d6cb8"
      },
      "source": [
        "df.groupby(['genero', 'membro_ativo']).agg({'membro_ativo' : 'count'})"
      ],
      "execution_count": 24,
      "outputs": [
        {
          "output_type": "execute_result",
          "data": {
            "text/html": [
              "<div>\n",
              "<style scoped>\n",
              "    .dataframe tbody tr th:only-of-type {\n",
              "        vertical-align: middle;\n",
              "    }\n",
              "\n",
              "    .dataframe tbody tr th {\n",
              "        vertical-align: top;\n",
              "    }\n",
              "\n",
              "    .dataframe thead th {\n",
              "        text-align: right;\n",
              "    }\n",
              "</style>\n",
              "<table border=\"1\" class=\"dataframe\">\n",
              "  <thead>\n",
              "    <tr style=\"text-align: right;\">\n",
              "      <th></th>\n",
              "      <th></th>\n",
              "      <th>membro_ativo</th>\n",
              "    </tr>\n",
              "    <tr>\n",
              "      <th>genero</th>\n",
              "      <th>membro_ativo</th>\n",
              "      <th></th>\n",
              "    </tr>\n",
              "  </thead>\n",
              "  <tbody>\n",
              "    <tr>\n",
              "      <th rowspan=\"2\" valign=\"top\">F</th>\n",
              "      <th>0</th>\n",
              "      <td>1598</td>\n",
              "    </tr>\n",
              "    <tr>\n",
              "      <th>1</th>\n",
              "      <td>1611</td>\n",
              "    </tr>\n",
              "    <tr>\n",
              "      <th rowspan=\"2\" valign=\"top\">M</th>\n",
              "      <th>0</th>\n",
              "      <td>1817</td>\n",
              "    </tr>\n",
              "    <tr>\n",
              "      <th>1</th>\n",
              "      <td>1974</td>\n",
              "    </tr>\n",
              "  </tbody>\n",
              "</table>\n",
              "</div>"
            ],
            "text/plain": [
              "                     membro_ativo\n",
              "genero membro_ativo              \n",
              "F      0                     1598\n",
              "       1                     1611\n",
              "M      0                     1817\n",
              "       1                     1974"
            ]
          },
          "metadata": {
            "tags": []
          },
          "execution_count": 24
        }
      ]
    },
    {
      "cell_type": "markdown",
      "metadata": {
        "colab_type": "text",
        "id": "gdXw8wGAIprF"
      },
      "source": [
        "## **1.04 - Idade**\n",
        "\n",
        "Idade do cliente."
      ]
    },
    {
      "cell_type": "code",
      "metadata": {
        "colab_type": "code",
        "id": "mINnz4ARIoXb",
        "colab": {
          "base_uri": "https://localhost:8080/",
          "height": 0
        },
        "outputId": "ff126e5a-812b-46d0-d587-142f97b96ece"
      },
      "source": [
        "# resumo estatístico\n",
        "display(pd.DataFrame(df['idade'].describe()))\n",
        "\n",
        "ax = plt.subplots(figsize=(10,6))\n",
        "ax = sns.boxplot(df['idade'])\n",
        "ax.set_title('Boxplot Idade', fontsize=18);"
      ],
      "execution_count": 25,
      "outputs": [
        {
          "output_type": "display_data",
          "data": {
            "text/html": [
              "<div>\n",
              "<style scoped>\n",
              "    .dataframe tbody tr th:only-of-type {\n",
              "        vertical-align: middle;\n",
              "    }\n",
              "\n",
              "    .dataframe tbody tr th {\n",
              "        vertical-align: top;\n",
              "    }\n",
              "\n",
              "    .dataframe thead th {\n",
              "        text-align: right;\n",
              "    }\n",
              "</style>\n",
              "<table border=\"1\" class=\"dataframe\">\n",
              "  <thead>\n",
              "    <tr style=\"text-align: right;\">\n",
              "      <th></th>\n",
              "      <th>idade</th>\n",
              "    </tr>\n",
              "  </thead>\n",
              "  <tbody>\n",
              "    <tr>\n",
              "      <th>count</th>\n",
              "      <td>7000.000000</td>\n",
              "    </tr>\n",
              "    <tr>\n",
              "      <th>mean</th>\n",
              "      <td>38.892714</td>\n",
              "    </tr>\n",
              "    <tr>\n",
              "      <th>std</th>\n",
              "      <td>10.465562</td>\n",
              "    </tr>\n",
              "    <tr>\n",
              "      <th>min</th>\n",
              "      <td>18.000000</td>\n",
              "    </tr>\n",
              "    <tr>\n",
              "      <th>25%</th>\n",
              "      <td>32.000000</td>\n",
              "    </tr>\n",
              "    <tr>\n",
              "      <th>50%</th>\n",
              "      <td>37.000000</td>\n",
              "    </tr>\n",
              "    <tr>\n",
              "      <th>75%</th>\n",
              "      <td>44.000000</td>\n",
              "    </tr>\n",
              "    <tr>\n",
              "      <th>max</th>\n",
              "      <td>92.000000</td>\n",
              "    </tr>\n",
              "  </tbody>\n",
              "</table>\n",
              "</div>"
            ],
            "text/plain": [
              "             idade\n",
              "count  7000.000000\n",
              "mean     38.892714\n",
              "std      10.465562\n",
              "min      18.000000\n",
              "25%      32.000000\n",
              "50%      37.000000\n",
              "75%      44.000000\n",
              "max      92.000000"
            ]
          },
          "metadata": {
            "tags": []
          }
        },
        {
          "output_type": "display_data",
          "data": {
            "image/png": "[encoded data removed]",
            "text/plain": [
              "<Figure size 720x432 with 1 Axes>"
            ]
          },
          "metadata": {
            "tags": [],
            "needs_background": "light"
          }
        }
      ]
    },
    {
      "cell_type": "code",
      "metadata": {
        "colab_type": "code",
        "id": "MYsqNjkuJvjv",
        "colab": {
          "base_uri": "https://localhost:8080/",
          "height": 0
        },
        "outputId": "a38a45ac-e9b7-4255-b06a-b61131f0b0dd"
      },
      "source": [
        "# criando intervalo de idade\n",
        "intervalo_idade = pd.cut(df['idade'], 5)\n",
        "print(intervalo_idade)\n",
        "\n",
        "df ['intervalo_idade'] = intervalo_idade"
      ],
      "execution_count": 26,
      "outputs": [
        {
          "output_type": "stream",
          "text": [
            "0         (32.8, 47.6]\n",
            "1         (32.8, 47.6]\n",
            "2         (32.8, 47.6]\n",
            "3         (32.8, 47.6]\n",
            "4         (32.8, 47.6]\n",
            "             ...      \n",
            "6995    (17.926, 32.8]\n",
            "6996      (47.6, 62.4]\n",
            "6997      (62.4, 77.2]\n",
            "6998      (32.8, 47.6]\n",
            "6999    (17.926, 32.8]\n",
            "Name: idade, Length: 7000, dtype: category\n",
            "Categories (5, interval[float64]): [(17.926, 32.8] < (32.8, 47.6] < (47.6, 62.4] < (62.4, 77.2] <\n",
            "                                    (77.2, 92.0]]\n"
          ],
          "name": "stdout"
        }
      ]
    },
    {
      "cell_type": "code",
      "metadata": {
        "colab_type": "code",
        "id": "VACIajxgKD4V",
        "colab": {
          "base_uri": "https://localhost:8080/",
          "height": 0
        },
        "outputId": "5c397511-705c-4c3e-f5fb-1a26c5cdcd1b"
      },
      "source": [
        "display(intervalo_idade.value_counts())\n",
        "\n",
        "ax = plt.subplots(figsize=(10,6))\n",
        "ax = sns.countplot(x='intervalo_idade', data=df)\n",
        "ax.set_title('Idades', fontsize=18);"
      ],
      "execution_count": 27,
      "outputs": [
        {
          "output_type": "display_data",
          "data": {
            "text/plain": [
              "(32.8, 47.6]      3837\n",
              "(17.926, 32.8]    1971\n",
              "(47.6, 62.4]       947\n",
              "(62.4, 77.2]       229\n",
              "(77.2, 92.0]        16\n",
              "Name: idade, dtype: int64"
            ]
          },
          "metadata": {
            "tags": []
          }
        },
        {
          "output_type": "display_data",
          "data": {
            "image/png": "[encoded data removed]",
            "text/plain": [
              "<Figure size 720x432 with 1 Axes>"
            ]
          },
          "metadata": {
            "tags": [],
            "needs_background": "light"
          }
        }
      ]
    },
    {
      "cell_type": "markdown",
      "metadata": {
        "colab_type": "text",
        "id": "4xV0p1N6MU57"
      },
      "source": [
        "## **1.05 - Nível Estabilidade**\n",
        "\n",
        "Nível de estabilidade do cliente."
      ]
    },
    {
      "cell_type": "code",
      "metadata": {
        "colab_type": "code",
        "id": "ZlE61RsTL9dV",
        "colab": {
          "base_uri": "https://localhost:8080/",
          "height": 0
        },
        "outputId": "fcc89364-070d-4c3b-f304-6b97bff36436"
      },
      "source": [
        "# resumo estatístico\n",
        "display(pd.DataFrame(df['nivel_estabilidade'].describe()))\n",
        "\n",
        "ax = plt.subplots(figsize=(10,6))\n",
        "ax = sns.boxplot(df['nivel_estabilidade'])\n",
        "ax.set_title('Boxplot Nível Estabilidade', fontsize=18);"
      ],
      "execution_count": 28,
      "outputs": [
        {
          "output_type": "display_data",
          "data": {
            "text/html": [
              "<div>\n",
              "<style scoped>\n",
              "    .dataframe tbody tr th:only-of-type {\n",
              "        vertical-align: middle;\n",
              "    }\n",
              "\n",
              "    .dataframe tbody tr th {\n",
              "        vertical-align: top;\n",
              "    }\n",
              "\n",
              "    .dataframe thead th {\n",
              "        text-align: right;\n",
              "    }\n",
              "</style>\n",
              "<table border=\"1\" class=\"dataframe\">\n",
              "  <thead>\n",
              "    <tr style=\"text-align: right;\">\n",
              "      <th></th>\n",
              "      <th>nivel_estabilidade</th>\n",
              "    </tr>\n",
              "  </thead>\n",
              "  <tbody>\n",
              "    <tr>\n",
              "      <th>count</th>\n",
              "      <td>7000.000000</td>\n",
              "    </tr>\n",
              "    <tr>\n",
              "      <th>mean</th>\n",
              "      <td>5.010286</td>\n",
              "    </tr>\n",
              "    <tr>\n",
              "      <th>std</th>\n",
              "      <td>2.887500</td>\n",
              "    </tr>\n",
              "    <tr>\n",
              "      <th>min</th>\n",
              "      <td>0.000000</td>\n",
              "    </tr>\n",
              "    <tr>\n",
              "      <th>25%</th>\n",
              "      <td>3.000000</td>\n",
              "    </tr>\n",
              "    <tr>\n",
              "      <th>50%</th>\n",
              "      <td>5.000000</td>\n",
              "    </tr>\n",
              "    <tr>\n",
              "      <th>75%</th>\n",
              "      <td>7.250000</td>\n",
              "    </tr>\n",
              "    <tr>\n",
              "      <th>max</th>\n",
              "      <td>10.000000</td>\n",
              "    </tr>\n",
              "  </tbody>\n",
              "</table>\n",
              "</div>"
            ],
            "text/plain": [
              "       nivel_estabilidade\n",
              "count         7000.000000\n",
              "mean             5.010286\n",
              "std              2.887500\n",
              "min              0.000000\n",
              "25%              3.000000\n",
              "50%              5.000000\n",
              "75%              7.250000\n",
              "max             10.000000"
            ]
          },
          "metadata": {
            "tags": []
          }
        },
        {
          "output_type": "display_data",
          "data": {
            "image/png": "[encoded data removed]",
            "text/plain": [
              "<Figure size 720x432 with 1 Axes>"
            ]
          },
          "metadata": {
            "tags": [],
            "needs_background": "light"
          }
        }
      ]
    },
    {
      "cell_type": "code",
      "metadata": {
        "colab_type": "code",
        "id": "LXlmar7ENC8T",
        "colab": {
          "base_uri": "https://localhost:8080/",
          "height": 0
        },
        "outputId": "b8f239ce-fccf-446a-c0bc-7f5375057bf5"
      },
      "source": [
        "display(df['nivel_estabilidade'].value_counts())\n",
        "\n",
        "ax = plt.subplots(figsize=(10,6))\n",
        "ax = sns.countplot(x='nivel_estabilidade', data=df, palette='GnBu_d')\n",
        "ax.set_title('Nível Estabilidade', fontsize=18);"
      ],
      "execution_count": 29,
      "outputs": [
        {
          "output_type": "display_data",
          "data": {
            "text/plain": [
              "7     726\n",
              "8     725\n",
              "3     724\n",
              "2     721\n",
              "1     720\n",
              "5     718\n",
              "9     700\n",
              "4     683\n",
              "6     664\n",
              "10    325\n",
              "0     294\n",
              "Name: nivel_estabilidade, dtype: int64"
            ]
          },
          "metadata": {
            "tags": []
          }
        },
        {
          "output_type": "display_data",
          "data": {
            "image/png": "[encoded data removed]",
            "text/plain": [
              "<Figure size 720x432 with 1 Axes>"
            ]
          },
          "metadata": {
            "tags": [],
            "needs_background": "light"
          }
        }
      ]
    },
    {
      "cell_type": "markdown",
      "metadata": {
        "colab_type": "text",
        "id": "35K3cEpHP_TG"
      },
      "source": [
        "## **1.06 - Saldo Conta**\n",
        "\n",
        "Saldo disponível na conta do cliente"
      ]
    },
    {
      "cell_type": "code",
      "metadata": {
        "colab_type": "code",
        "id": "F41i-QWBPlnL",
        "colab": {
          "base_uri": "https://localhost:8080/",
          "height": 682
        },
        "outputId": "c728e171-b033-4af6-9173-86d8de686dbd"
      },
      "source": [
        "display(pd.DataFrame(df['saldo_conta'].describe()))\n",
        "\n",
        "ax = plt.subplots(figsize=(10,6))\n",
        "ax = sns.boxplot(df['saldo_conta'])\n",
        "ax.set_title('Boxplot Saldo Conta', fontsize=18);"
      ],
      "execution_count": 30,
      "outputs": [
        {
          "output_type": "display_data",
          "data": {
            "text/html": [
              "<div>\n",
              "<style scoped>\n",
              "    .dataframe tbody tr th:only-of-type {\n",
              "        vertical-align: middle;\n",
              "    }\n",
              "\n",
              "    .dataframe tbody tr th {\n",
              "        vertical-align: top;\n",
              "    }\n",
              "\n",
              "    .dataframe thead th {\n",
              "        text-align: right;\n",
              "    }\n",
              "</style>\n",
              "<table border=\"1\" class=\"dataframe\">\n",
              "  <thead>\n",
              "    <tr style=\"text-align: right;\">\n",
              "      <th></th>\n",
              "      <th>saldo_conta</th>\n",
              "    </tr>\n",
              "  </thead>\n",
              "  <tbody>\n",
              "    <tr>\n",
              "      <th>count</th>\n",
              "      <td>7000.000000</td>\n",
              "    </tr>\n",
              "    <tr>\n",
              "      <th>mean</th>\n",
              "      <td>76471.883751</td>\n",
              "    </tr>\n",
              "    <tr>\n",
              "      <th>std</th>\n",
              "      <td>62403.383911</td>\n",
              "    </tr>\n",
              "    <tr>\n",
              "      <th>min</th>\n",
              "      <td>0.000000</td>\n",
              "    </tr>\n",
              "    <tr>\n",
              "      <th>25%</th>\n",
              "      <td>0.000000</td>\n",
              "    </tr>\n",
              "    <tr>\n",
              "      <th>50%</th>\n",
              "      <td>97277.130000</td>\n",
              "    </tr>\n",
              "    <tr>\n",
              "      <th>75%</th>\n",
              "      <td>127537.155000</td>\n",
              "    </tr>\n",
              "    <tr>\n",
              "      <th>max</th>\n",
              "      <td>250898.090000</td>\n",
              "    </tr>\n",
              "  </tbody>\n",
              "</table>\n",
              "</div>"
            ],
            "text/plain": [
              "         saldo_conta\n",
              "count    7000.000000\n",
              "mean    76471.883751\n",
              "std     62403.383911\n",
              "min         0.000000\n",
              "25%         0.000000\n",
              "50%     97277.130000\n",
              "75%    127537.155000\n",
              "max    250898.090000"
            ]
          },
          "metadata": {
            "tags": []
          }
        },
        {
          "output_type": "display_data",
          "data": {
            "image/png": "[encoded data removed]",
            "text/plain": [
              "<Figure size 720x432 with 1 Axes>"
            ]
          },
          "metadata": {
            "tags": [],
            "needs_background": "light"
          }
        }
      ]
    },
    {
      "cell_type": "markdown",
      "metadata": {
        "id": "dV88MPjsLGWy",
        "colab_type": "text"
      },
      "source": [
        "Média saldo na conta por gênero:"
      ]
    },
    {
      "cell_type": "code",
      "metadata": {
        "colab_type": "code",
        "id": "Ey--7eZZfJju",
        "colab": {
          "base_uri": "https://localhost:8080/",
          "height": 136
        },
        "outputId": "2f5bbf9a-42f6-48ad-a1e3-429123139a4d"
      },
      "source": [
        "df.groupby('genero').agg({'saldo_conta' : 'mean'})"
      ],
      "execution_count": 31,
      "outputs": [
        {
          "output_type": "execute_result",
          "data": {
            "text/html": [
              "<div>\n",
              "<style scoped>\n",
              "    .dataframe tbody tr th:only-of-type {\n",
              "        vertical-align: middle;\n",
              "    }\n",
              "\n",
              "    .dataframe tbody tr th {\n",
              "        vertical-align: top;\n",
              "    }\n",
              "\n",
              "    .dataframe thead th {\n",
              "        text-align: right;\n",
              "    }\n",
              "</style>\n",
              "<table border=\"1\" class=\"dataframe\">\n",
              "  <thead>\n",
              "    <tr style=\"text-align: right;\">\n",
              "      <th></th>\n",
              "      <th>saldo_conta</th>\n",
              "    </tr>\n",
              "    <tr>\n",
              "      <th>genero</th>\n",
              "      <th></th>\n",
              "    </tr>\n",
              "  </thead>\n",
              "  <tbody>\n",
              "    <tr>\n",
              "      <th>F</th>\n",
              "      <td>75286.439897</td>\n",
              "    </tr>\n",
              "    <tr>\n",
              "      <th>M</th>\n",
              "      <td>77475.336489</td>\n",
              "    </tr>\n",
              "  </tbody>\n",
              "</table>\n",
              "</div>"
            ],
            "text/plain": [
              "         saldo_conta\n",
              "genero              \n",
              "F       75286.439897\n",
              "M       77475.336489"
            ]
          },
          "metadata": {
            "tags": []
          },
          "execution_count": 31
        }
      ]
    },
    {
      "cell_type": "markdown",
      "metadata": {
        "id": "AipR3E8tLLxf",
        "colab_type": "text"
      },
      "source": [
        "Média saldo na conta por estado:"
      ]
    },
    {
      "cell_type": "code",
      "metadata": {
        "colab_type": "code",
        "id": "HDblnke9n9bI",
        "colab": {
          "base_uri": "https://localhost:8080/",
          "height": 166
        },
        "outputId": "2940772e-f922-4109-be0c-aa610b80a04f"
      },
      "source": [
        "df.groupby('estado_residencia').agg({'saldo_conta' : 'mean'})"
      ],
      "execution_count": 32,
      "outputs": [
        {
          "output_type": "execute_result",
          "data": {
            "text/html": [
              "<div>\n",
              "<style scoped>\n",
              "    .dataframe tbody tr th:only-of-type {\n",
              "        vertical-align: middle;\n",
              "    }\n",
              "\n",
              "    .dataframe tbody tr th {\n",
              "        vertical-align: top;\n",
              "    }\n",
              "\n",
              "    .dataframe thead th {\n",
              "        text-align: right;\n",
              "    }\n",
              "</style>\n",
              "<table border=\"1\" class=\"dataframe\">\n",
              "  <thead>\n",
              "    <tr style=\"text-align: right;\">\n",
              "      <th></th>\n",
              "      <th>saldo_conta</th>\n",
              "    </tr>\n",
              "    <tr>\n",
              "      <th>estado_residencia</th>\n",
              "      <th></th>\n",
              "    </tr>\n",
              "  </thead>\n",
              "  <tbody>\n",
              "    <tr>\n",
              "      <th>PR</th>\n",
              "      <td>119458.904945</td>\n",
              "    </tr>\n",
              "    <tr>\n",
              "      <th>RS</th>\n",
              "      <td>62169.610400</td>\n",
              "    </tr>\n",
              "    <tr>\n",
              "      <th>SC</th>\n",
              "      <td>62439.046206</td>\n",
              "    </tr>\n",
              "  </tbody>\n",
              "</table>\n",
              "</div>"
            ],
            "text/plain": [
              "                     saldo_conta\n",
              "estado_residencia               \n",
              "PR                 119458.904945\n",
              "RS                  62169.610400\n",
              "SC                  62439.046206"
            ]
          },
          "metadata": {
            "tags": []
          },
          "execution_count": 32
        }
      ]
    },
    {
      "cell_type": "markdown",
      "metadata": {
        "id": "7aJkHLJ4LPR_",
        "colab_type": "text"
      },
      "source": [
        "Média saldo na conta por pontuação de crédito:"
      ]
    },
    {
      "cell_type": "code",
      "metadata": {
        "colab_type": "code",
        "id": "g43ML35noyY0",
        "colab": {
          "base_uri": "https://localhost:8080/",
          "height": 431
        },
        "outputId": "aa1c6894-dc5c-4f3d-9e70-38f3a72021ed"
      },
      "source": [
        "df.groupby('pontuacao_credito').agg({'saldo_conta' : 'mean'}).round(2)"
      ],
      "execution_count": 33,
      "outputs": [
        {
          "output_type": "execute_result",
          "data": {
            "text/html": [
              "<div>\n",
              "<style scoped>\n",
              "    .dataframe tbody tr th:only-of-type {\n",
              "        vertical-align: middle;\n",
              "    }\n",
              "\n",
              "    .dataframe tbody tr th {\n",
              "        vertical-align: top;\n",
              "    }\n",
              "\n",
              "    .dataframe thead th {\n",
              "        text-align: right;\n",
              "    }\n",
              "</style>\n",
              "<table border=\"1\" class=\"dataframe\">\n",
              "  <thead>\n",
              "    <tr style=\"text-align: right;\">\n",
              "      <th></th>\n",
              "      <th>saldo_conta</th>\n",
              "    </tr>\n",
              "    <tr>\n",
              "      <th>pontuacao_credito</th>\n",
              "      <th></th>\n",
              "    </tr>\n",
              "  </thead>\n",
              "  <tbody>\n",
              "    <tr>\n",
              "      <th>350</th>\n",
              "      <td>131205.34</td>\n",
              "    </tr>\n",
              "    <tr>\n",
              "      <th>351</th>\n",
              "      <td>163146.46</td>\n",
              "    </tr>\n",
              "    <tr>\n",
              "      <th>358</th>\n",
              "      <td>143542.36</td>\n",
              "    </tr>\n",
              "    <tr>\n",
              "      <th>359</th>\n",
              "      <td>128747.69</td>\n",
              "    </tr>\n",
              "    <tr>\n",
              "      <th>363</th>\n",
              "      <td>146098.43</td>\n",
              "    </tr>\n",
              "    <tr>\n",
              "      <th>...</th>\n",
              "      <td>...</td>\n",
              "    </tr>\n",
              "    <tr>\n",
              "      <th>846</th>\n",
              "      <td>0.00</td>\n",
              "    </tr>\n",
              "    <tr>\n",
              "      <th>847</th>\n",
              "      <td>111346.20</td>\n",
              "    </tr>\n",
              "    <tr>\n",
              "      <th>848</th>\n",
              "      <td>117563.99</td>\n",
              "    </tr>\n",
              "    <tr>\n",
              "      <th>849</th>\n",
              "      <td>69256.04</td>\n",
              "    </tr>\n",
              "    <tr>\n",
              "      <th>850</th>\n",
              "      <td>79636.01</td>\n",
              "    </tr>\n",
              "  </tbody>\n",
              "</table>\n",
              "<p>451 rows × 1 columns</p>\n",
              "</div>"
            ],
            "text/plain": [
              "                   saldo_conta\n",
              "pontuacao_credito             \n",
              "350                  131205.34\n",
              "351                  163146.46\n",
              "358                  143542.36\n",
              "359                  128747.69\n",
              "363                  146098.43\n",
              "...                        ...\n",
              "846                       0.00\n",
              "847                  111346.20\n",
              "848                  117563.99\n",
              "849                   69256.04\n",
              "850                   79636.01\n",
              "\n",
              "[451 rows x 1 columns]"
            ]
          },
          "metadata": {
            "tags": []
          },
          "execution_count": 33
        }
      ]
    },
    {
      "cell_type": "markdown",
      "metadata": {
        "id": "veUgLc1kLg_E",
        "colab_type": "text"
      },
      "source": [
        "Média saldo na conta por intervalo de idade:"
      ]
    },
    {
      "cell_type": "code",
      "metadata": {
        "colab_type": "code",
        "id": "6bq24lfSgKr0",
        "colab": {
          "base_uri": "https://localhost:8080/",
          "height": 225
        },
        "outputId": "c070be06-6ada-4232-92cd-5924cdfaac71"
      },
      "source": [
        "df.groupby('intervalo_idade').agg({'saldo_conta' : 'mean'}).round(2)"
      ],
      "execution_count": 34,
      "outputs": [
        {
          "output_type": "execute_result",
          "data": {
            "text/html": [
              "<div>\n",
              "<style scoped>\n",
              "    .dataframe tbody tr th:only-of-type {\n",
              "        vertical-align: middle;\n",
              "    }\n",
              "\n",
              "    .dataframe tbody tr th {\n",
              "        vertical-align: top;\n",
              "    }\n",
              "\n",
              "    .dataframe thead th {\n",
              "        text-align: right;\n",
              "    }\n",
              "</style>\n",
              "<table border=\"1\" class=\"dataframe\">\n",
              "  <thead>\n",
              "    <tr style=\"text-align: right;\">\n",
              "      <th></th>\n",
              "      <th>saldo_conta</th>\n",
              "    </tr>\n",
              "    <tr>\n",
              "      <th>intervalo_idade</th>\n",
              "      <th></th>\n",
              "    </tr>\n",
              "  </thead>\n",
              "  <tbody>\n",
              "    <tr>\n",
              "      <th>(17.926, 32.8]</th>\n",
              "      <td>73112.61</td>\n",
              "    </tr>\n",
              "    <tr>\n",
              "      <th>(32.8, 47.6]</th>\n",
              "      <td>76744.00</td>\n",
              "    </tr>\n",
              "    <tr>\n",
              "      <th>(47.6, 62.4]</th>\n",
              "      <td>83317.11</td>\n",
              "    </tr>\n",
              "    <tr>\n",
              "      <th>(62.4, 77.2]</th>\n",
              "      <td>74511.12</td>\n",
              "    </tr>\n",
              "    <tr>\n",
              "      <th>(77.2, 92.0]</th>\n",
              "      <td>47947.54</td>\n",
              "    </tr>\n",
              "  </tbody>\n",
              "</table>\n",
              "</div>"
            ],
            "text/plain": [
              "                 saldo_conta\n",
              "intervalo_idade             \n",
              "(17.926, 32.8]      73112.61\n",
              "(32.8, 47.6]        76744.00\n",
              "(47.6, 62.4]        83317.11\n",
              "(62.4, 77.2]        74511.12\n",
              "(77.2, 92.0]        47947.54"
            ]
          },
          "metadata": {
            "tags": []
          },
          "execution_count": 34
        }
      ]
    },
    {
      "cell_type": "code",
      "metadata": {
        "colab_type": "code",
        "id": "YqzHpjZ9hfux",
        "colab": {}
      },
      "source": [
        "# criando um intervalo de valores para saldo na conta\n",
        "intervalo_saldo_conta = pd.cut(df['saldo_conta'], 5)\n",
        "\n",
        "df['intervalo_saldo_conta'] = intervalo_saldo_conta"
      ],
      "execution_count": 35,
      "outputs": []
    },
    {
      "cell_type": "code",
      "metadata": {
        "colab_type": "code",
        "id": "8EyAH4cMg2FF",
        "colab": {
          "base_uri": "https://localhost:8080/",
          "height": 678
        },
        "outputId": "e15074a3-bf57-4ab9-d00a-616dabec1b09"
      },
      "source": [
        "display(intervalo_saldo_conta.value_counts())\n",
        "\n",
        "ax = plt.subplots(figsize=(14,9))\n",
        "ax = sns.countplot(x='intervalo_saldo_conta', data=df)\n",
        "ax.set_title('Intervalos Saldo Conta', fontsize=18);"
      ],
      "execution_count": 36,
      "outputs": [
        {
          "output_type": "display_data",
          "data": {
            "text/plain": [
              "(100359.236, 150538.854]    2685\n",
              "(-250.898, 50179.618]       2583\n",
              "(50179.618, 100359.236]     1070\n",
              "(150538.854, 200718.472]     641\n",
              "(200718.472, 250898.09]       21\n",
              "Name: saldo_conta, dtype: int64"
            ]
          },
          "metadata": {
            "tags": []
          }
        },
        {
          "output_type": "display_data",
          "data": {
            "image/png": "[encoded data removed]",
            "text/plain": [
              "<Figure size 1008x648 with 1 Axes>"
            ]
          },
          "metadata": {
            "tags": [],
            "needs_background": "light"
          }
        }
      ]
    },
    {
      "cell_type": "markdown",
      "metadata": {
        "colab_type": "text",
        "id": "ZC5GUteXig1I"
      },
      "source": [
        "## **1.07 - Possui Cartão de Crédito?**\n",
        "\n",
        "Possui um cartão de crédito cadastrado (0 = Não, 1 = Sim)\n"
      ]
    },
    {
      "cell_type": "code",
      "metadata": {
        "colab_type": "code",
        "id": "680U8_pyhUMq",
        "colab": {
          "base_uri": "https://localhost:8080/",
          "height": 465
        },
        "outputId": "b0938c14-ae35-4b0a-c2b7-bf68c1eaece4"
      },
      "source": [
        "display(df['possui_cartao_de_credito'].value_counts())\n",
        "\n",
        "ax = plt.subplots(figsize=(8,6))\n",
        "ax = sns.countplot(x='possui_cartao_de_credito', data=df)\n",
        "ax.set_title('Possui Cartão de Crédito?', fontsize=18);"
      ],
      "execution_count": 37,
      "outputs": [
        {
          "output_type": "display_data",
          "data": {
            "text/plain": [
              "1    4923\n",
              "0    2077\n",
              "Name: possui_cartao_de_credito, dtype: int64"
            ]
          },
          "metadata": {
            "tags": []
          }
        },
        {
          "output_type": "display_data",
          "data": {
            "image/png": "[encoded data removed]",
            "text/plain": [
              "<Figure size 576x432 with 1 Axes>"
            ]
          },
          "metadata": {
            "tags": [],
            "needs_background": "light"
          }
        }
      ]
    },
    {
      "cell_type": "markdown",
      "metadata": {
        "id": "-M8B2HjvL-9E",
        "colab_type": "text"
      },
      "source": [
        "Possui cartão de crédito por gênero:"
      ]
    },
    {
      "cell_type": "code",
      "metadata": {
        "colab_type": "code",
        "id": "IwnRiOILi0l5",
        "colab": {
          "base_uri": "https://localhost:8080/",
          "height": 593
        },
        "outputId": "a260d4a0-237e-4291-da59-216079ef1006"
      },
      "source": [
        "display(df.groupby(['genero', 'possui_cartao_de_credito']).agg({'possui_cartao_de_credito' : 'count'}))\n",
        "\n",
        "ax = plt.subplots(figsize=(8,6))\n",
        "ax = sns.countplot(x='genero', data=df, hue='possui_cartao_de_credito')\n",
        "ax.set_title('Possui cartão de crédito por Gênero', fontsize=18);"
      ],
      "execution_count": 38,
      "outputs": [
        {
          "output_type": "display_data",
          "data": {
            "text/html": [
              "<div>\n",
              "<style scoped>\n",
              "    .dataframe tbody tr th:only-of-type {\n",
              "        vertical-align: middle;\n",
              "    }\n",
              "\n",
              "    .dataframe tbody tr th {\n",
              "        vertical-align: top;\n",
              "    }\n",
              "\n",
              "    .dataframe thead th {\n",
              "        text-align: right;\n",
              "    }\n",
              "</style>\n",
              "<table border=\"1\" class=\"dataframe\">\n",
              "  <thead>\n",
              "    <tr style=\"text-align: right;\">\n",
              "      <th></th>\n",
              "      <th></th>\n",
              "      <th>possui_cartao_de_credito</th>\n",
              "    </tr>\n",
              "    <tr>\n",
              "      <th>genero</th>\n",
              "      <th>possui_cartao_de_credito</th>\n",
              "      <th></th>\n",
              "    </tr>\n",
              "  </thead>\n",
              "  <tbody>\n",
              "    <tr>\n",
              "      <th rowspan=\"2\" valign=\"top\">F</th>\n",
              "      <th>0</th>\n",
              "      <td>980</td>\n",
              "    </tr>\n",
              "    <tr>\n",
              "      <th>1</th>\n",
              "      <td>2229</td>\n",
              "    </tr>\n",
              "    <tr>\n",
              "      <th rowspan=\"2\" valign=\"top\">M</th>\n",
              "      <th>0</th>\n",
              "      <td>1097</td>\n",
              "    </tr>\n",
              "    <tr>\n",
              "      <th>1</th>\n",
              "      <td>2694</td>\n",
              "    </tr>\n",
              "  </tbody>\n",
              "</table>\n",
              "</div>"
            ],
            "text/plain": [
              "                                 possui_cartao_de_credito\n",
              "genero possui_cartao_de_credito                          \n",
              "F      0                                              980\n",
              "       1                                             2229\n",
              "M      0                                             1097\n",
              "       1                                             2694"
            ]
          },
          "metadata": {
            "tags": []
          }
        },
        {
          "output_type": "display_data",
          "data": {
            "image/png": "[encoded data removed]",
            "text/plain": [
              "<Figure size 576x432 with 1 Axes>"
            ]
          },
          "metadata": {
            "tags": [],
            "needs_background": "light"
          }
        }
      ]
    },
    {
      "cell_type": "markdown",
      "metadata": {
        "id": "ZyKfMweyMF97",
        "colab_type": "text"
      },
      "source": [
        "Possui cartão de crédito por intervalo de idade:"
      ]
    },
    {
      "cell_type": "code",
      "metadata": {
        "colab_type": "code",
        "id": "_7cqzpA6jYGj",
        "colab": {
          "base_uri": "https://localhost:8080/",
          "height": 770
        },
        "outputId": "698c0311-15a7-4a53-e06e-36844d7a053b"
      },
      "source": [
        "display(df.groupby(['intervalo_idade', 'possui_cartao_de_credito']).agg({'possui_cartao_de_credito' : 'count'}))\n",
        "\n",
        "ax = plt.subplots(figsize=(8,6))\n",
        "ax = sns.countplot(x='intervalo_idade', data=df, hue='possui_cartao_de_credito')\n",
        "ax.set_title('Possui cartão de crédito por Intervalo de Idade', fontsize=18);"
      ],
      "execution_count": 39,
      "outputs": [
        {
          "output_type": "display_data",
          "data": {
            "text/html": [
              "<div>\n",
              "<style scoped>\n",
              "    .dataframe tbody tr th:only-of-type {\n",
              "        vertical-align: middle;\n",
              "    }\n",
              "\n",
              "    .dataframe tbody tr th {\n",
              "        vertical-align: top;\n",
              "    }\n",
              "\n",
              "    .dataframe thead th {\n",
              "        text-align: right;\n",
              "    }\n",
              "</style>\n",
              "<table border=\"1\" class=\"dataframe\">\n",
              "  <thead>\n",
              "    <tr style=\"text-align: right;\">\n",
              "      <th></th>\n",
              "      <th></th>\n",
              "      <th>possui_cartao_de_credito</th>\n",
              "    </tr>\n",
              "    <tr>\n",
              "      <th>intervalo_idade</th>\n",
              "      <th>possui_cartao_de_credito</th>\n",
              "      <th></th>\n",
              "    </tr>\n",
              "  </thead>\n",
              "  <tbody>\n",
              "    <tr>\n",
              "      <th rowspan=\"2\" valign=\"top\">(17.926, 32.8]</th>\n",
              "      <th>0</th>\n",
              "      <td>564</td>\n",
              "    </tr>\n",
              "    <tr>\n",
              "      <th>1</th>\n",
              "      <td>1407</td>\n",
              "    </tr>\n",
              "    <tr>\n",
              "      <th rowspan=\"2\" valign=\"top\">(32.8, 47.6]</th>\n",
              "      <th>0</th>\n",
              "      <td>1140</td>\n",
              "    </tr>\n",
              "    <tr>\n",
              "      <th>1</th>\n",
              "      <td>2697</td>\n",
              "    </tr>\n",
              "    <tr>\n",
              "      <th rowspan=\"2\" valign=\"top\">(47.6, 62.4]</th>\n",
              "      <th>0</th>\n",
              "      <td>299</td>\n",
              "    </tr>\n",
              "    <tr>\n",
              "      <th>1</th>\n",
              "      <td>648</td>\n",
              "    </tr>\n",
              "    <tr>\n",
              "      <th rowspan=\"2\" valign=\"top\">(62.4, 77.2]</th>\n",
              "      <th>0</th>\n",
              "      <td>68</td>\n",
              "    </tr>\n",
              "    <tr>\n",
              "      <th>1</th>\n",
              "      <td>161</td>\n",
              "    </tr>\n",
              "    <tr>\n",
              "      <th rowspan=\"2\" valign=\"top\">(77.2, 92.0]</th>\n",
              "      <th>0</th>\n",
              "      <td>6</td>\n",
              "    </tr>\n",
              "    <tr>\n",
              "      <th>1</th>\n",
              "      <td>10</td>\n",
              "    </tr>\n",
              "  </tbody>\n",
              "</table>\n",
              "</div>"
            ],
            "text/plain": [
              "                                          possui_cartao_de_credito\n",
              "intervalo_idade possui_cartao_de_credito                          \n",
              "(17.926, 32.8]  0                                              564\n",
              "                1                                             1407\n",
              "(32.8, 47.6]    0                                             1140\n",
              "                1                                             2697\n",
              "(47.6, 62.4]    0                                              299\n",
              "                1                                              648\n",
              "(62.4, 77.2]    0                                               68\n",
              "                1                                              161\n",
              "(77.2, 92.0]    0                                                6\n",
              "                1                                               10"
            ]
          },
          "metadata": {
            "tags": []
          }
        },
        {
          "output_type": "display_data",
          "data": {
            "image/png": "[encoded data removed]",
            "text/plain": [
              "<Figure size 576x432 with 1 Axes>"
            ]
          },
          "metadata": {
            "tags": [],
            "needs_background": "light"
          }
        }
      ]
    },
    {
      "cell_type": "markdown",
      "metadata": {
        "colab_type": "text",
        "id": "Q1N58V54mPUt"
      },
      "source": [
        "## **1.08 - Membro Ativo**\n",
        "\n",
        "Membro acessa e consome frequentemente (0 = Não, 1 = Sim) "
      ]
    },
    {
      "cell_type": "code",
      "metadata": {
        "colab_type": "code",
        "id": "Wd0JbzwHlbDC",
        "colab": {
          "base_uri": "https://localhost:8080/",
          "height": 465
        },
        "outputId": "0520d02b-7c2f-4fb8-dd81-e19df37da3cb"
      },
      "source": [
        "display(df['membro_ativo'].value_counts())\n",
        "\n",
        "ax = plt.subplots(figsize=(8,6))\n",
        "ax = sns.countplot(x='membro_ativo', data=df)\n",
        "ax.set_title('Membro Ativo', fontsize=18);"
      ],
      "execution_count": 40,
      "outputs": [
        {
          "output_type": "display_data",
          "data": {
            "text/plain": [
              "1    3585\n",
              "0    3415\n",
              "Name: membro_ativo, dtype: int64"
            ]
          },
          "metadata": {
            "tags": []
          }
        },
        {
          "output_type": "display_data",
          "data": {
            "image/png": "[encoded data removed]",
            "text/plain": [
              "<Figure size 576x432 with 1 Axes>"
            ]
          },
          "metadata": {
            "tags": [],
            "needs_background": "light"
          }
        }
      ]
    },
    {
      "cell_type": "markdown",
      "metadata": {
        "id": "5GEf0Q9sNtkG",
        "colab_type": "text"
      },
      "source": [
        "Membro ativo por gênero:"
      ]
    },
    {
      "cell_type": "code",
      "metadata": {
        "colab_type": "code",
        "id": "WpHoFLaKm8e0",
        "colab": {
          "base_uri": "https://localhost:8080/",
          "height": 195
        },
        "outputId": "655555c0-dffe-44d8-b317-b29c462fd157"
      },
      "source": [
        "df.groupby(['genero', 'membro_ativo']).agg({'membro_ativo' : 'count'})"
      ],
      "execution_count": 41,
      "outputs": [
        {
          "output_type": "execute_result",
          "data": {
            "text/html": [
              "<div>\n",
              "<style scoped>\n",
              "    .dataframe tbody tr th:only-of-type {\n",
              "        vertical-align: middle;\n",
              "    }\n",
              "\n",
              "    .dataframe tbody tr th {\n",
              "        vertical-align: top;\n",
              "    }\n",
              "\n",
              "    .dataframe thead th {\n",
              "        text-align: right;\n",
              "    }\n",
              "</style>\n",
              "<table border=\"1\" class=\"dataframe\">\n",
              "  <thead>\n",
              "    <tr style=\"text-align: right;\">\n",
              "      <th></th>\n",
              "      <th></th>\n",
              "      <th>membro_ativo</th>\n",
              "    </tr>\n",
              "    <tr>\n",
              "      <th>genero</th>\n",
              "      <th>membro_ativo</th>\n",
              "      <th></th>\n",
              "    </tr>\n",
              "  </thead>\n",
              "  <tbody>\n",
              "    <tr>\n",
              "      <th rowspan=\"2\" valign=\"top\">F</th>\n",
              "      <th>0</th>\n",
              "      <td>1598</td>\n",
              "    </tr>\n",
              "    <tr>\n",
              "      <th>1</th>\n",
              "      <td>1611</td>\n",
              "    </tr>\n",
              "    <tr>\n",
              "      <th rowspan=\"2\" valign=\"top\">M</th>\n",
              "      <th>0</th>\n",
              "      <td>1817</td>\n",
              "    </tr>\n",
              "    <tr>\n",
              "      <th>1</th>\n",
              "      <td>1974</td>\n",
              "    </tr>\n",
              "  </tbody>\n",
              "</table>\n",
              "</div>"
            ],
            "text/plain": [
              "                     membro_ativo\n",
              "genero membro_ativo              \n",
              "F      0                     1598\n",
              "       1                     1611\n",
              "M      0                     1817\n",
              "       1                     1974"
            ]
          },
          "metadata": {
            "tags": []
          },
          "execution_count": 41
        }
      ]
    },
    {
      "cell_type": "markdown",
      "metadata": {
        "id": "rQNNGUxRNxM3",
        "colab_type": "text"
      },
      "source": [
        "Média de pontuação de crédito membro ativo:"
      ]
    },
    {
      "cell_type": "code",
      "metadata": {
        "colab_type": "code",
        "id": "uvYC6QqPpBgB",
        "colab": {
          "base_uri": "https://localhost:8080/",
          "height": 136
        },
        "outputId": "563039fd-a42a-486a-b46f-54bc30bd9f6f"
      },
      "source": [
        "df.groupby(['membro_ativo']).agg({'pontuacao_credito' : 'mean'})"
      ],
      "execution_count": 42,
      "outputs": [
        {
          "output_type": "execute_result",
          "data": {
            "text/html": [
              "<div>\n",
              "<style scoped>\n",
              "    .dataframe tbody tr th:only-of-type {\n",
              "        vertical-align: middle;\n",
              "    }\n",
              "\n",
              "    .dataframe tbody tr th {\n",
              "        vertical-align: top;\n",
              "    }\n",
              "\n",
              "    .dataframe thead th {\n",
              "        text-align: right;\n",
              "    }\n",
              "</style>\n",
              "<table border=\"1\" class=\"dataframe\">\n",
              "  <thead>\n",
              "    <tr style=\"text-align: right;\">\n",
              "      <th></th>\n",
              "      <th>pontuacao_credito</th>\n",
              "    </tr>\n",
              "    <tr>\n",
              "      <th>membro_ativo</th>\n",
              "      <th></th>\n",
              "    </tr>\n",
              "  </thead>\n",
              "  <tbody>\n",
              "    <tr>\n",
              "      <th>0</th>\n",
              "      <td>646.407321</td>\n",
              "    </tr>\n",
              "    <tr>\n",
              "      <th>1</th>\n",
              "      <td>653.006416</td>\n",
              "    </tr>\n",
              "  </tbody>\n",
              "</table>\n",
              "</div>"
            ],
            "text/plain": [
              "              pontuacao_credito\n",
              "membro_ativo                   \n",
              "0                    646.407321\n",
              "1                    653.006416"
            ]
          },
          "metadata": {
            "tags": []
          },
          "execution_count": 42
        }
      ]
    },
    {
      "cell_type": "markdown",
      "metadata": {
        "id": "iXTE5tmaOGIs",
        "colab_type": "text"
      },
      "source": [
        "Membro ativo por intervalo de idade:"
      ]
    },
    {
      "cell_type": "code",
      "metadata": {
        "colab_type": "code",
        "id": "Bwt4cCEUnoVD",
        "colab": {
          "base_uri": "https://localhost:8080/",
          "height": 414
        },
        "outputId": "a42de856-23ed-4ce8-c3ca-bc48f8bb87f1"
      },
      "source": [
        "df.groupby(['intervalo_idade', 'membro_ativo']).agg({'membro_ativo' : 'count'})\n",
        "\n",
        "ax = plt.subplots(figsize=(8,6))\n",
        "ax = sns.countplot(x='intervalo_idade', data=df, hue='membro_ativo')\n",
        "ax.set_title('Membro Ativo por Intervalo de Idade', fontsize=18);"
      ],
      "execution_count": 43,
      "outputs": [
        {
          "output_type": "display_data",
          "data": {
            "image/png": "[encoded data removed]",
            "text/plain": [
              "<Figure size 576x432 with 1 Axes>"
            ]
          },
          "metadata": {
            "tags": [],
            "needs_background": "light"
          }
        }
      ]
    },
    {
      "cell_type": "markdown",
      "metadata": {
        "id": "F_CfIeEM6XVT",
        "colab_type": "text"
      },
      "source": [
        "#**2. Respostas do Desafio**"
      ]
    },
    {
      "cell_type": "markdown",
      "metadata": {
        "id": "QX-yQ4IF6HQm",
        "colab_type": "text"
      },
      "source": [
        "A resposta deve conter os valores da média, mediana, moda e desvio padrão da pontuação de crédito para cada estado do dataset."
      ]
    },
    {
      "cell_type": "markdown",
      "metadata": {
        "id": "897D6-_C6fQW",
        "colab_type": "text"
      },
      "source": [
        "**Média:**"
      ]
    },
    {
      "cell_type": "code",
      "metadata": {
        "id": "roxqHKJK6HQy",
        "colab_type": "code",
        "colab": {
          "base_uri": "https://localhost:8080/",
          "height": 166
        },
        "outputId": "af4027cd-ac7f-433e-a90c-05c7b02bac70"
      },
      "source": [
        "df.groupby('estado_residencia').agg({'pontuacao_credito': 'mean'})"
      ],
      "execution_count": 44,
      "outputs": [
        {
          "output_type": "execute_result",
          "data": {
            "text/html": [
              "<div>\n",
              "<style scoped>\n",
              "    .dataframe tbody tr th:only-of-type {\n",
              "        vertical-align: middle;\n",
              "    }\n",
              "\n",
              "    .dataframe tbody tr th {\n",
              "        vertical-align: top;\n",
              "    }\n",
              "\n",
              "    .dataframe thead th {\n",
              "        text-align: right;\n",
              "    }\n",
              "</style>\n",
              "<table border=\"1\" class=\"dataframe\">\n",
              "  <thead>\n",
              "    <tr style=\"text-align: right;\">\n",
              "      <th></th>\n",
              "      <th>pontuacao_credito</th>\n",
              "    </tr>\n",
              "    <tr>\n",
              "      <th>estado_residencia</th>\n",
              "      <th></th>\n",
              "    </tr>\n",
              "  </thead>\n",
              "  <tbody>\n",
              "    <tr>\n",
              "      <th>PR</th>\n",
              "      <td>648.961294</td>\n",
              "    </tr>\n",
              "    <tr>\n",
              "      <th>RS</th>\n",
              "      <td>651.105143</td>\n",
              "    </tr>\n",
              "    <tr>\n",
              "      <th>SC</th>\n",
              "      <td>649.537653</td>\n",
              "    </tr>\n",
              "  </tbody>\n",
              "</table>\n",
              "</div>"
            ],
            "text/plain": [
              "                   pontuacao_credito\n",
              "estado_residencia                   \n",
              "PR                        648.961294\n",
              "RS                        651.105143\n",
              "SC                        649.537653"
            ]
          },
          "metadata": {
            "tags": []
          },
          "execution_count": 44
        }
      ]
    },
    {
      "cell_type": "markdown",
      "metadata": {
        "id": "zLVokTEG6i6V",
        "colab_type": "text"
      },
      "source": [
        "**Mediana:**"
      ]
    },
    {
      "cell_type": "code",
      "metadata": {
        "id": "5eoJMnag6HQn",
        "colab_type": "code",
        "colab": {
          "base_uri": "https://localhost:8080/",
          "height": 166
        },
        "outputId": "903b0fc1-1b9f-4fba-bafd-57af629dbacd"
      },
      "source": [
        "df.groupby('estado_residencia').agg({'pontuacao_credito': 'median'})"
      ],
      "execution_count": 45,
      "outputs": [
        {
          "output_type": "execute_result",
          "data": {
            "text/html": [
              "<div>\n",
              "<style scoped>\n",
              "    .dataframe tbody tr th:only-of-type {\n",
              "        vertical-align: middle;\n",
              "    }\n",
              "\n",
              "    .dataframe tbody tr th {\n",
              "        vertical-align: top;\n",
              "    }\n",
              "\n",
              "    .dataframe thead th {\n",
              "        text-align: right;\n",
              "    }\n",
              "</style>\n",
              "<table border=\"1\" class=\"dataframe\">\n",
              "  <thead>\n",
              "    <tr style=\"text-align: right;\">\n",
              "      <th></th>\n",
              "      <th>pontuacao_credito</th>\n",
              "    </tr>\n",
              "    <tr>\n",
              "      <th>estado_residencia</th>\n",
              "      <th></th>\n",
              "    </tr>\n",
              "  </thead>\n",
              "  <tbody>\n",
              "    <tr>\n",
              "      <th>PR</th>\n",
              "      <td>650</td>\n",
              "    </tr>\n",
              "    <tr>\n",
              "      <th>RS</th>\n",
              "      <td>650</td>\n",
              "    </tr>\n",
              "    <tr>\n",
              "      <th>SC</th>\n",
              "      <td>653</td>\n",
              "    </tr>\n",
              "  </tbody>\n",
              "</table>\n",
              "</div>"
            ],
            "text/plain": [
              "                   pontuacao_credito\n",
              "estado_residencia                   \n",
              "PR                               650\n",
              "RS                               650\n",
              "SC                               653"
            ]
          },
          "metadata": {
            "tags": []
          },
          "execution_count": 45
        }
      ]
    },
    {
      "cell_type": "markdown",
      "metadata": {
        "id": "Dao4xvr06oQg",
        "colab_type": "text"
      },
      "source": [
        "**Moda:**"
      ]
    },
    {
      "cell_type": "code",
      "metadata": {
        "id": "BUq-3QTD6HQ1",
        "colab_type": "code",
        "colab": {
          "base_uri": "https://localhost:8080/",
          "height": 136
        },
        "outputId": "7d127ef4-2f92-4281-9b3f-5cd5fcbebd3b"
      },
      "source": [
        "pr = df.query(\"estado_residencia == 'PR'\")['pontuacao_credito'].mode()[0]\n",
        "rs = df.query(\"estado_residencia == 'RS'\")['pontuacao_credito'].mode()[0]\n",
        "sc = df.query(\"estado_residencia == 'SC'\")['pontuacao_credito'].mode()[0]\n",
        "\n",
        "index = ['PR', 'RS', 'SC']\n",
        "data = [pr, rs, sc]\n",
        "columns = ['mode']\n",
        "\n",
        "df_mode = pd.DataFrame(index=index, data=data, columns=columns)\n",
        "df_mode"
      ],
      "execution_count": 46,
      "outputs": [
        {
          "output_type": "execute_result",
          "data": {
            "text/html": [
              "<div>\n",
              "<style scoped>\n",
              "    .dataframe tbody tr th:only-of-type {\n",
              "        vertical-align: middle;\n",
              "    }\n",
              "\n",
              "    .dataframe tbody tr th {\n",
              "        vertical-align: top;\n",
              "    }\n",
              "\n",
              "    .dataframe thead th {\n",
              "        text-align: right;\n",
              "    }\n",
              "</style>\n",
              "<table border=\"1\" class=\"dataframe\">\n",
              "  <thead>\n",
              "    <tr style=\"text-align: right;\">\n",
              "      <th></th>\n",
              "      <th>mode</th>\n",
              "    </tr>\n",
              "  </thead>\n",
              "  <tbody>\n",
              "    <tr>\n",
              "      <th>PR</th>\n",
              "      <td>850</td>\n",
              "    </tr>\n",
              "    <tr>\n",
              "      <th>RS</th>\n",
              "      <td>850</td>\n",
              "    </tr>\n",
              "    <tr>\n",
              "      <th>SC</th>\n",
              "      <td>850</td>\n",
              "    </tr>\n",
              "  </tbody>\n",
              "</table>\n",
              "</div>"
            ],
            "text/plain": [
              "    mode\n",
              "PR   850\n",
              "RS   850\n",
              "SC   850"
            ]
          },
          "metadata": {
            "tags": []
          },
          "execution_count": 46
        }
      ]
    },
    {
      "cell_type": "markdown",
      "metadata": {
        "id": "_3petj1F6q5p",
        "colab_type": "text"
      },
      "source": [
        "**Desvio Padrão:**"
      ]
    },
    {
      "cell_type": "code",
      "metadata": {
        "id": "d3f10L7R6HQ-",
        "colab_type": "code",
        "colab": {
          "base_uri": "https://localhost:8080/",
          "height": 166
        },
        "outputId": "51232761-9951-4e91-9e05-0e242fb2799d"
      },
      "source": [
        "df.groupby('estado_residencia').agg({'pontuacao_credito': 'std'})"
      ],
      "execution_count": 47,
      "outputs": [
        {
          "output_type": "execute_result",
          "data": {
            "text/html": [
              "<div>\n",
              "<style scoped>\n",
              "    .dataframe tbody tr th:only-of-type {\n",
              "        vertical-align: middle;\n",
              "    }\n",
              "\n",
              "    .dataframe tbody tr th {\n",
              "        vertical-align: top;\n",
              "    }\n",
              "\n",
              "    .dataframe thead th {\n",
              "        text-align: right;\n",
              "    }\n",
              "</style>\n",
              "<table border=\"1\" class=\"dataframe\">\n",
              "  <thead>\n",
              "    <tr style=\"text-align: right;\">\n",
              "      <th></th>\n",
              "      <th>pontuacao_credito</th>\n",
              "    </tr>\n",
              "    <tr>\n",
              "      <th>estado_residencia</th>\n",
              "      <th></th>\n",
              "    </tr>\n",
              "  </thead>\n",
              "  <tbody>\n",
              "    <tr>\n",
              "      <th>PR</th>\n",
              "      <td>98.607186</td>\n",
              "    </tr>\n",
              "    <tr>\n",
              "      <th>RS</th>\n",
              "      <td>95.136598</td>\n",
              "    </tr>\n",
              "    <tr>\n",
              "      <th>SC</th>\n",
              "      <td>97.233493</td>\n",
              "    </tr>\n",
              "  </tbody>\n",
              "</table>\n",
              "</div>"
            ],
            "text/plain": [
              "                   pontuacao_credito\n",
              "estado_residencia                   \n",
              "PR                         98.607186\n",
              "RS                         95.136598\n",
              "SC                         97.233493"
            ]
          },
          "metadata": {
            "tags": []
          },
          "execution_count": 47
        }
      ]
    }
  ]
}